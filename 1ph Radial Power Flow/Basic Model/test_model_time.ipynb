{
 "cells": [
  {
   "cell_type": "code",
   "execution_count": 22,
   "metadata": {
    "collapsed": true
   },
   "outputs": [],
   "source": [
    "from pyomo.environ import *\n",
    "import pandas as pd\n",
    "import numpy as np"
   ]
  },
  {
   "cell_type": "code",
   "execution_count": 23,
   "outputs": [],
   "source": [
    "def read_input(filename):\n",
    "    SystemDemand= pd.read_excel(filename, sheet_name = 'SystemDemand')\n",
    "    NodeData = pd.read_excel(filename, sheet_name='NodeData')\n",
    "    LineData = pd.read_excel(filename, sheet_name='LineData')\n",
    "\n",
    "    return {'SystemDemand':SystemDemand, 'NodeData':NodeData, 'LineData':LineData}"
   ],
   "metadata": {
    "collapsed": false,
    "pycharm": {
     "name": "#%%\n"
    }
   }
  },
  {
   "cell_type": "code",
   "execution_count": 24,
   "outputs": [
    {
     "name": "stdout",
     "output_type": "stream",
     "text": [
      "SystemDemand :\n",
      "    TIME   PD   QD\n",
      "0     1  1.0  1.0\n",
      "1     2  1.2  1.2\n",
      "2     3  1.4  1.4\n",
      "3     4  0.8  0.8\n",
      "4     5  0.7  0.7\n",
      "5     6  1.3  1.3\n",
      "\n",
      "\n",
      "NodeData :\n",
      "     NODES  Tb     PD    QD\n",
      "0       1   1    0.0   0.0\n",
      "1       2   0  130.3  80.7\n",
      "2       3   0    0.0   0.0\n",
      "3       4   0  130.3  80.7\n",
      "4       5   0  130.3  80.7\n",
      "5       6   0    0.0   0.0\n",
      "6       7   0    0.0   0.0\n",
      "7       8   0  130.3  80.7\n",
      "8       9   0  130.3  80.7\n",
      "9      10   0    0.0   0.0\n",
      "10     11   0  130.3  80.7\n",
      "11     12   0   77.6  47.6\n",
      "12     13   0   40.8  25.5\n",
      "13     14   0   40.8  25.5\n",
      "14     15   0   40.8  25.5\n",
      "15     16   0    7.6   4.2\n",
      "16     17   0  130.3  80.7\n",
      "17     18   0  130.3  80.7\n",
      "18     19   0  130.3  80.7\n",
      "19     20   0  130.3  80.7\n",
      "20     21   0  130.3  80.7\n",
      "21     22   0  130.3  80.7\n",
      "22     23   0  130.3  80.7\n",
      "23     24   0  130.3  80.7\n",
      "24     25   0  130.3  80.7\n",
      "25     26   0  130.3  80.7\n",
      "26     27   0   77.6  48.1\n",
      "27     28   0   42.5  27.2\n",
      "28     29   0   42.5  27.2\n",
      "29     30   0   42.5  27.2\n",
      "30     31   0   32.3  21.2\n",
      "31     32   0   32.3  21.2\n",
      "32     33   0   32.3  21.2\n",
      "33     34   0   32.3  21.2\n",
      "\n",
      "\n",
      "LineData :\n",
      "     FROM  TO       R       X\n",
      "0      1   2  0.1170  0.0480\n",
      "1      2   3  0.1073  0.0440\n",
      "2      3   4  0.1645  0.0457\n",
      "3      4   5  0.1495  0.0415\n",
      "4      5   6  0.1495  0.0415\n",
      "5      6   7  0.3144  0.0540\n",
      "6      7   8  0.2096  0.0360\n",
      "7      8   9  0.3144  0.0540\n",
      "8      9  10  0.2096  0.0360\n",
      "9     10  11  0.1310  0.0225\n",
      "10    11  12  0.1048  0.0180\n",
      "11     3  13  0.1572  0.0270\n",
      "12    13  14  0.2096  0.0360\n",
      "13    14  15  0.1048  0.0180\n",
      "14    15  16  0.0524  0.0090\n",
      "15     6  17  0.1794  0.0498\n",
      "16    17  18  0.1645  0.0457\n",
      "17    18  19  0.2079  0.0473\n",
      "18    19  20  0.1890  0.0430\n",
      "19    20  21  0.1890  0.0430\n",
      "20    21  22  0.2620  0.0450\n",
      "21    22  23  0.2620  0.0450\n",
      "22    23  24  0.3144  0.0540\n",
      "23    24  25  0.2096  0.0360\n",
      "24    25  26  0.1310  0.0225\n",
      "25    26  27  0.1048  0.0180\n",
      "26     7  28  0.1572  0.0270\n",
      "27    28  29  0.1572  0.0270\n",
      "28    29  30  0.1572  0.0270\n",
      "29    10  31  0.1572  0.0270\n",
      "30    31  32  0.2096  0.0360\n",
      "31    32  33  0.1572  0.0270\n",
      "32    33  34  0.1048  0.0180\n",
      "\n",
      "\n"
     ]
    }
   ],
   "source": [
    "data = read_input(r'Input_Files\\InputData34.xlsx')\n",
    "for i in data.keys():\n",
    "    print(i, ':\\n', data[i])\n",
    "    print('\\n')"
   ],
   "metadata": {
    "collapsed": false,
    "pycharm": {
     "name": "#%%\n"
    }
   }
  },
  {
   "cell_type": "code",
   "execution_count": 25,
   "outputs": [],
   "source": [
    "def optimization_model(inputData, Vmax, Vmin, Vnom):\n",
    "\n",
    "    SystemDemand= inputData['SystemDemand']\n",
    "    NodeData = inputData['NodeData']\n",
    "    LineData = inputData['LineData']\n",
    "    time = [SystemDemand.loc[i, 'TIME'] for i in SystemDemand.index]\n",
    "    lines = {(LineData.loc[i, 'FROM'], LineData.loc[i, 'TO']) for i in LineData.index}\n",
    "    buses = [NodeData.loc[i, 'NODES'] for i in NodeData.index]\n",
    "    R = {(LineData.loc[i,'FROM'],LineData.loc[i,'TO']):LineData.loc[i,'R'] for i in LineData.index}\n",
    "    X = {(LineData.loc[i,'FROM'],LineData.loc[i,'TO']):LineData.loc[i,'X'] for i in LineData.index}\n",
    "    Tb = {buses[i]:NodeData.loc[i, 'Tb'] for i in NodeData.index}\n",
    "    Pd = {(buses[i], time[k]):NodeData.loc[i, 'PD']*SystemDemand.loc[k, 'PD'] for k in SystemDemand.index for i in NodeData.index}\n",
    "    Qd = {(buses[i], time[k]):NodeData.loc[i, 'QD']*SystemDemand.loc[k, 'QD'] for k in SystemDemand.index for i in NodeData.index}\n",
    "\n",
    "    #---------------------------------------------------------------------------------------------------------\n",
    "    #Define the Model\n",
    "    #---------------------------------------------------------------------------------------------------------\n",
    "\n",
    "    model = ConcreteModel()\n",
    "\n",
    "    #---------------------------------------------------------------------------------------------------------\n",
    "    #Define Sets\n",
    "    #---------------------------------------------------------------------------------------------------------\n",
    "    model.LINES = Set(initialize=lines)\n",
    "    model.NODES = Set(initialize=buses)\n",
    "    model.TIME = Set(ordered=True, initialize=time)\n",
    "\n",
    "    #---------------------------------------------------------------------------------------------------------\n",
    "    #Define Parameters\n",
    "    #---------------------------------------------------------------------------------------------------------\n",
    "\n",
    "    model.R = Param(model.LINES, initialize=R, mutable=True, within=NonNegativeReals)\n",
    "    model.X = Param(model.LINES, initialize=X, mutable=True, within=NonNegativeReals)\n",
    "\n",
    "    model.Pd = Param(model.NODES, model.TIME, initialize=Pd, mutable=True, within=Any)\n",
    "    model.Qd = Param(model.NODES, model.TIME, initialize=Qd, mutable=True, within=Any)\n",
    "    model.Tb = Param(model.NODES, initialize=Tb, mutable=True, within=Any)\n",
    "    model.Vmax = Param(initialize=Vmax, mutable=True)\n",
    "    model.Vmin = Param(initialize=Vmin, mutable=True)\n",
    "    model.Vnom = Param(initialize=Vnom, mutable=True)\n",
    "\n",
    "    #---------------------------------------------------------------------------------------------------------\n",
    "    #Initialize Parameters\n",
    "    #---------------------------------------------------------------------------------------------------------\n",
    "    def ini_resistance(model, i,j):\n",
    "        return model.R[i,j]/1000\n",
    "    model.RM = Param(model.LINES, rule=ini_resistance)\n",
    "    def ini_reactance(model, i,j):\n",
    "        return model.X[i,j]/1000\n",
    "    model.XM = Param(model.LINES, rule=ini_reactance)\n",
    "\n",
    "    #---------------------------------------------------------------------------------------------------------\n",
    "    #Define Variables\n",
    "    #---------------------------------------------------------------------------------------------------------\n",
    "    model.I = Var(model.LINES, model.TIME, initialize=0)\n",
    "    model.P = Var(model.LINES, model.TIME, initialize=0)\n",
    "    model.Q = Var(model.LINES, model.TIME, initialize=0)\n",
    "\n",
    "    def active_supply_rule(model, n, t):\n",
    "        if model.Tb[n] == 0:\n",
    "            temp = 0.0\n",
    "            model.Ps[n,t].fixed = True\n",
    "        else:\n",
    "            temp = 0.0\n",
    "        return temp\n",
    "    model.Ps = Var(model.NODES, model.TIME, initialize=active_supply_rule)\n",
    "\n",
    "    def reactive_supply_rule(model, n, t):\n",
    "        if model.Tb[n] == 0:\n",
    "            temp = 0.0\n",
    "            model.Qs[n,t].fixed = True\n",
    "        else:\n",
    "            temp = 0.0\n",
    "        return temp\n",
    "    model.Qs = Var(model.NODES, model.TIME, initialize=reactive_supply_rule)\n",
    "\n",
    "    def ini_voltage(model, n, t):\n",
    "        if model.Tb[n] == 0:\n",
    "            temp = model.Vnom\n",
    "            model.V[n,t].fixed = False\n",
    "        else:\n",
    "            temp = model.Vnom\n",
    "            model.V[n,t].fixed = True\n",
    "        return temp\n",
    "    model.V = Var(model.NODES, model.TIME, initialize=ini_voltage)\n",
    "\n",
    "    def act_loss(model):\n",
    "        return sum(model.RM[i,j]*(model.I[i,j,t]**2) for i,j in model.LINES for t in model.TIME)\n",
    "    model.obj = Objective(rule=act_loss)\n",
    "\n",
    "    def active_power_flow_rule(model, k, t):\n",
    "        # Power_in + Power_supplied = Power_out + Power_out_lost + Power_consumed\n",
    "        return sum(model.P[i,j,t] for i,j in model.LINES if j == k) + model.Ps[k,t] == \\\n",
    "               sum(model.P[i,j,t] + model.RM[i,j]*(model.I[i,j,t]**2) for i,j in model.LINES if i == k) + model.Pd[k,t]\n",
    "    model.active_power_flow = Constraint(model.NODES, model.TIME, rule=active_power_flow_rule)\n",
    "\n",
    "    def reactive_power_flow_rule(model, k, t):\n",
    "        # Power_in + Power_supplied = Power_out + Power_out_lost + Power_consumed\n",
    "        return sum(model.Q[i,j,t] for i,j in model.LINES if j == k) + model.Qs[k,t] == \\\n",
    "               sum(model.Q[i,j,t] + model.XM[i,j]*(model.I[i,j,t]**2) for i,j in model.LINES if i == k) + model.Qd[k,t]\n",
    "    model.reactive_power_flow = Constraint(model.NODES, model.TIME, rule=reactive_power_flow_rule)\n",
    "\n",
    "    def voltage_drop_rule(model, i, j, t):\n",
    "        return (model.V[i,t]**2) - (model.V[j,t]**2) - 2*(model.RM[i,j]*model.P[i,j,t] + model.XM[i,j]*model.Q[i,j,t]) - (model.RM[i,j]**2 + model.XM[i,j]**2)*model.I[i,j,t]**2 == 0\n",
    "    model.voltage_drop = Constraint(model.LINES, model.TIME, rule=voltage_drop_rule)\n",
    "\n",
    "    def define_current_rule(model, i, j, t):\n",
    "        return (model.V[j,t]**2)*(model.I[i,j,t]**2) == (model.P[i,j,t]**2)+(model.Q[i,j,t]**2)\n",
    "    model.define_current = Constraint(model.LINES, model.TIME, rule=define_current_rule)\n",
    "\n",
    "    def voltage_limit_rule(model, n, t):\n",
    "        return inequality(model.Vmin, model.V[n,t], model.Vmax)\n",
    "    model.voltage_limit = Constraint(model.NODES, model.TIME, rule=voltage_limit_rule)\n",
    "\n",
    "    def current_limit_rule(model, i, j, t):\n",
    "        return 0 <= model.I[i,j,t]\n",
    "    model.current_limit = Constraint(model.LINES, model.TIME, rule=current_limit_rule)\n",
    "\n",
    "    return model"
   ],
   "metadata": {
    "collapsed": false,
    "pycharm": {
     "name": "#%%\n"
    }
   }
  },
  {
   "cell_type": "code",
   "execution_count": 26,
   "outputs": [],
   "source": [
    "Vnom = 11/np.sqrt(3)    # phase voltage (   Vp = V_LL/sqrt(3)  )\n",
    "Vmax = 1.05*Vnom\n",
    "Vmin = 0.8*Vnom\n",
    "model = optimization_model(data, Vmax, Vmin, Vnom)\n",
    "#model.pprint()"
   ],
   "metadata": {
    "collapsed": false,
    "pycharm": {
     "name": "#%%\n"
    }
   }
  },
  {
   "cell_type": "code",
   "execution_count": 27,
   "outputs": [
    {
     "name": "stdout",
     "output_type": "stream",
     "text": [
      "Ipopt 3.12.13: \r\n",
      "\r\n",
      "******************************************************************************\r\n",
      "This program contains Ipopt, a library for large-scale nonlinear optimization.\r\n",
      " Ipopt is released as open source code under the Eclipse Public License (EPL).\r\n",
      "         For more information visit http://projects.coin-or.org/Ipopt\r\n",
      "******************************************************************************\r\n",
      "\r\n",
      "This is Ipopt version 3.12.13, running with linear solver mumps.\r\n",
      "NOTE: Other linear solvers might be more efficient (see Ipopt documentation).\r\n",
      "\r\n",
      "Number of nonzeros in equality constraint Jacobian...:     2976\r\n",
      "Number of nonzeros in inequality constraint Jacobian.:      396\r\n",
      "Number of nonzeros in Lagrangian Hessian.............:      990\r\n",
      "\r\n",
      "Total number of variables............................:      804\r\n",
      "                     variables with only lower bounds:        0\r\n",
      "                variables with lower and upper bounds:        0\r\n",
      "                     variables with only upper bounds:        0\r\n",
      "Total number of equality constraints.................:      804\r\n",
      "Total number of inequality constraints...............:      402\r\n",
      "        inequality constraints with only lower bounds:      198\r\n",
      "   inequality constraints with lower and upper bounds:      204\r\n",
      "        inequality constraints with only upper bounds:        0\r\n",
      "\r\n",
      "iter    objective    inf_pr   inf_du lg(mu)  ||d||  lg(rg) alpha_du alpha_pr  ls\r\n",
      "   0  0.0000000e+00 1.82e+02 1.00e+00  -1.0 0.00e+00    -  0.00e+00 0.00e+00   0\r\n",
      "   1  1.0544336e-04 4.69e+06 7.02e-01  -1.0 3.68e+03    -  2.98e-01 5.00e-01f  2\r\n",
      "   2  2.4074485e+02 2.51e+06 2.59e+09  -1.0 3.48e+06    -  1.71e-08 1.22e-04h 14\r\n",
      "   3  4.4393531e+02 2.13e+06 2.21e+09  -1.0 2.16e+03    -  5.05e-04 1.25e-01h  4\r\n",
      "   4  1.0022365e+03 4.30e+05 2.64e+08  -1.0 1.93e+03    -  3.43e-01 5.00e-01h  2\r\n",
      "   5  1.7025732e+03 2.19e+05 7.53e+08  -1.0 1.06e+03    -  7.37e-01 1.00e+00h  1\r\n",
      "   6  1.7283807e+03 1.95e+03 1.13e+07  -1.0 3.80e+01    -  9.78e-01 1.00e+00h  1\r\n",
      "   7  1.7281626e+03 2.67e+01 1.84e+03  -1.0 8.92e-01    -  1.00e+00 1.00e+00h  1\r\n",
      "   8  1.7281592e+03 4.80e-02 3.13e+00  -1.0 3.85e-02    -  1.00e+00 1.00e+00h  1\r\n",
      "   9  1.7281592e+03 1.97e-07 1.39e-05  -1.0 7.79e-05    -  1.00e+00 1.00e+00h  1\r\n",
      "iter    objective    inf_pr   inf_du lg(mu)  ||d||  lg(rg) alpha_du alpha_pr  ls\r\n",
      "  10  1.7281592e+03 8.38e-09 2.83e-08  -2.5 3.20e-10    -  1.00e+00 1.00e+00h  1\r\n",
      "\r\n",
      "Number of Iterations....: 10\r\n",
      "\r\n",
      "                                   (scaled)                 (unscaled)\r\n",
      "Objective...............:   1.7281592340244897e+03    1.7281592340244897e+03\r\n",
      "Dual infeasibility......:   7.4606925555511282e-14    7.4606925555511282e-14\r\n",
      "Constraint violation....:   8.3819031715393066e-09    8.3819031715393066e-09\r\n",
      "Complementarity.........:   0.0000000000000000e+00    0.0000000000000000e+00\r\n",
      "Overall NLP error.......:   8.3819031715393066e-09    8.3819031715393066e-09\r\n",
      "\r\n",
      "\r\n",
      "Number of objective function evaluations             = 18\r\n",
      "Number of objective gradient evaluations             = 11\r\n",
      "Number of equality constraint evaluations            = 35\r\n",
      "Number of inequality constraint evaluations          = 35\r\n",
      "Number of equality constraint Jacobian evaluations   = 11\r\n",
      "Number of inequality constraint Jacobian evaluations = 11\r\n",
      "Number of Lagrangian Hessian evaluations             = 10\r\n",
      "Total CPU secs in IPOPT (w/o function evaluations)   =      0.126\r\n",
      "Total CPU secs in NLP function evaluations           =      0.007\r\n",
      "\r\n",
      "EXIT: Optimal Solution Found.\r\n",
      "\b\b\b\b\b\b\b\b\b\b\b\b\b\b\b"
     ]
    },
    {
     "data": {
      "text/plain": "{'Problem': [{'Lower bound': -inf, 'Upper bound': inf, 'Number of objectives': 1, 'Number of constraints': 1206, 'Number of variables': 804, 'Sense': 'unknown'}], 'Solver': [{'Status': 'ok', 'Message': 'Ipopt 3.12.13\\\\x3a Optimal Solution Found', 'Termination condition': 'optimal', 'Id': 0, 'Error rc': 0, 'Time': 0.20012974739074707}], 'Solution': [OrderedDict([('number of solutions', 0), ('number of solutions displayed', 0)])]}"
     },
     "execution_count": 27,
     "metadata": {},
     "output_type": "execute_result"
    }
   ],
   "source": [
    "solver = SolverFactory('ipopt')\n",
    "solver.solve(model, tee=True)"
   ],
   "metadata": {
    "collapsed": false,
    "pycharm": {
     "name": "#%%\n"
    }
   }
  },
  {
   "cell_type": "code",
   "execution_count": 28,
   "outputs": [
    {
     "name": "stdout",
     "output_type": "stream",
     "text": [
      "[18539.039234024487, 16810.88, 1728.1592340244897]\n"
     ]
    }
   ],
   "source": [
    "# CHECK LOSSES+DEMAND=SUPPLY\n",
    "losses = value(model.obj)\n",
    "supply = sum([sum(value(model.Ps[n, t]) for n in model.NODES) for t in model.TIME])\n",
    "demand = sum([sum(value(model.Pd[n, t]) for n in model.NODES) for t in model.TIME])\n",
    "print([supply, demand, losses])"
   ],
   "metadata": {
    "collapsed": false,
    "pycharm": {
     "name": "#%%\n"
    }
   }
  }
 ],
 "metadata": {
  "kernelspec": {
   "display_name": "Python 3",
   "language": "python",
   "name": "python3"
  },
  "language_info": {
   "codemirror_mode": {
    "name": "ipython",
    "version": 2
   },
   "file_extension": ".py",
   "mimetype": "text/x-python",
   "name": "python",
   "nbconvert_exporter": "python",
   "pygments_lexer": "ipython2",
   "version": "2.7.6"
  }
 },
 "nbformat": 4,
 "nbformat_minor": 0
}