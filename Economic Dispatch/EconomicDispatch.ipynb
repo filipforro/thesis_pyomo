{
 "cells": [
  {
   "cell_type": "markdown",
   "metadata": {
    "collapsed": true,
    "pycharm": {
     "name": "#%% md\n"
    }
   },
   "source": [
    "\n",
    "<h1>Power System Analysis and Optimization (5XWA0) - Practice</h1>\n",
    "<h2>Economic dispatch with generation constraints in PYOMO</h2>\n",
    "\n",
    "<b>MSc Irena Dukovska</b> <br />\n",
    "<b>Dr. Nikolaos Paterakis</b> <br />\n",
    "  Electrical Energy Systems Group <br />\n",
    "  Department of Electrical Engineering <br />\n",
    "  Eindhoven University of Technology <br />\n",
    "  (i.dukovska@tue.nl, n.paterakis@tue.nl) <br /><br />\n",
    "\n",
    "\n",
    "<h2>Introduction</h2>\n",
    "\n",
    "The optimization problem is formulated as follows:\n",
    "\n",
    "\\begin{align}\n",
    "&\\text{Minimize} \\ C = \\sum_{i}(a_i+b_i \\cdot P_i + c_i \\cdot P_i^2) \\\\\n",
    "&\\text{subject to:} \\\\\n",
    "&\\sum_{i} P_i = D \\ \\forall i \\\\\n",
    "&P_i^{min} \\leq P_i \\leq P_i^{max} \\ \\forall i \\\\\n",
    "&P_i \\geq 0 \\ \\forall i\n",
    "\\end{align}\n",
    "\n",
    "The goal of the optimization problem is to find the optimal power output of each unit in order to serve the total load at a minimum cost.\n",
    "\n",
    "<b>In this tutorial we will:</b> <br>\n",
    "1) develop an optimization model using Pyomo to solve the problem above <br>\n",
    "2) show how to extract the results of the solved model <br>\n",
    "3) visualize the results using Matplotlib library"
   ]
  },
  {
   "cell_type": "code",
   "execution_count": 86,
   "outputs": [],
   "source": [
    "import pandas\n",
    "import numpy\n",
    "from pyomo.environ import *\n",
    "\n",
    "model = ConcreteModel()\n",
    "model.dual = Suffix(direction=Suffix.IMPORT)"
   ],
   "metadata": {
    "collapsed": false,
    "pycharm": {
     "name": "#%%\n"
    }
   }
  },
  {
   "cell_type": "code",
   "execution_count": 87,
   "outputs": [
    {
     "name": "stdout",
     "output_type": "stream",
     "text": [
      "         a    b      c  Min  Max\n",
      "                                \n",
      "Unit1  500  5.3  0.004  200  450\n",
      "Unit2  400  5.5  0.006  150  350\n",
      "Unit3  200  5.8  0.009  100  225\n"
     ]
    }
   ],
   "source": [
    "UnitData = pandas.read_excel('ED_input.xlsx', sheet_name = 'Units', index_col= 0)\n",
    "D = 550\n",
    "print(UnitData)"
   ],
   "metadata": {
    "collapsed": false,
    "pycharm": {
     "name": "#%%\n"
    }
   }
  },
  {
   "cell_type": "code",
   "execution_count": 88,
   "outputs": [],
   "source": [
    "model.I = Set(ordered=True, initialize=UnitData.index)\n",
    "\n",
    "model.Pmax = Param(model.I, within = NonNegativeReals, mutable = True)\n",
    "model.Pmin = Param(model.I, within = NonNegativeReals, mutable = True)\n",
    "\n",
    "model.a = Param(model.I, within = NonNegativeReals, mutable = True)\n",
    "model.b = Param(model.I, within = NonNegativeReals, mutable = True)\n",
    "model.c = Param(model.I, within = NonNegativeReals, mutable = True)\n",
    "\n",
    "for i in model.I:\n",
    "    model.Pmax[i] = UnitData.loc[i,'Max']\n",
    "    model.Pmin[i] = UnitData.loc[i,'Min']\n",
    "    model.a[i] = UnitData.loc[i,'a']\n",
    "    model.b[i] = UnitData.loc[i,'b']\n",
    "    model.c[i] = UnitData.loc[i,'c']\n",
    "\n",
    "model.P = Var(model.I, within = PositiveReals)"
   ],
   "metadata": {
    "collapsed": false,
    "pycharm": {
     "name": "#%%\n"
    }
   }
  },
  {
   "cell_type": "code",
   "execution_count": 89,
   "outputs": [],
   "source": [
    "def obj_rule(model):\n",
    "    return sum(model.a[i] + model.b[i]*model.P[i] + model.c[i]*model.P[i]*model.P[i] for i in model.I)\n",
    "\n",
    "def min_rule(model, i):\n",
    "    return model.P[i] >= model.Pmin[i]\n",
    "\n",
    "def max_rule(model, i):\n",
    "    return model.P[i] <= model.Pmax[i]\n",
    "\n",
    "def pbalance_rule(model):\n",
    "    return sum(model.P[i] for i in model.I) == D"
   ],
   "metadata": {
    "collapsed": false,
    "pycharm": {
     "name": "#%%\n"
    }
   }
  },
  {
   "cell_type": "code",
   "execution_count": 90,
   "outputs": [
    {
     "name": "stdout",
     "output_type": "stream",
     "text": [
      "Unit1\n",
      "a[Unit1]\n",
      "b[Unit1]*P[Unit1]\n",
      "Unit2\n",
      "a[Unit2]\n",
      "b[Unit2]*P[Unit2]\n",
      "Unit3\n",
      "a[Unit3]\n",
      "b[Unit3]*P[Unit3]\n"
     ]
    }
   ],
   "source": [
    "model.cost = Objective(rule = cost_rule)\n",
    "model.unit_out_min_constraint = Constraint(model.I, rule = min_rule)\n",
    "model.unit_out_max_constraint = Constraint(model.I, rule = max_rule)\n",
    "model.balance = Constraint(rule = pbalance_rule)\n",
    "\n",
    "opt=SolverFactory('gurobi')\n",
    "results=opt.solve(model)"
   ],
   "metadata": {
    "collapsed": false,
    "pycharm": {
     "name": "#%%\n"
    }
   }
  },
  {
   "cell_type": "code",
   "execution_count": 91,
   "outputs": [
    {
     "name": "stdout",
     "output_type": "stream",
     "text": [
      "Marginal cost:  7.5399999999719425\n",
      "Total cost:  4676.00000000035\n"
     ]
    }
   ],
   "source": [
    "model\n",
    "#print the marginal value of the power balance constraint\n",
    "print(\"Marginal cost: \",model.balance.get_suffix_value(model.dual))\n",
    "\n",
    "#print the total production cost\n",
    "print(\"Total cost: \", model.cost())"
   ],
   "metadata": {
    "collapsed": false,
    "pycharm": {
     "name": "#%%\n"
    }
   }
  }
 ],
 "metadata": {
  "kernelspec": {
   "display_name": "Python 3",
   "language": "python",
   "name": "python3"
  },
  "language_info": {
   "codemirror_mode": {
    "name": "ipython",
    "version": 2
   },
   "file_extension": ".py",
   "mimetype": "text/x-python",
   "name": "python",
   "nbconvert_exporter": "python",
   "pygments_lexer": "ipython2",
   "version": "2.7.6"
  }
 },
 "nbformat": 4,
 "nbformat_minor": 0
}