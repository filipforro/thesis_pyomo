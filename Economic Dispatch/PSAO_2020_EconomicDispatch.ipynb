{
 "cells": [
  {
   "cell_type": "markdown",
   "metadata": {},
   "source": [
    "\n",
    "<h1>Power System Analysis and Optimization (5XWA0)</h1>\n",
    "<h2>Economic dispatch with generation constraints in PYOMO</h2>\n",
    "\n",
    "<b>MSc Irena Dukovska</b> <br />\n",
    "<b>Dr. Nikolaos Paterakis</b> <br />\n",
    "  Electrical Energy Systems Group <br />\n",
    "  Department of Electrical Engineering <br />\n",
    "  Eindhoven University of Technology <br />\n",
    "  (i.dukovska@tue.nl, n.paterakis@tue.nl) <br /><br />\n",
    "  \n",
    "\n",
    "<h2>Introduction</h2>\n",
    "\n",
    "In this tutorial we will be developing a model in Python in order to solve and examine the solution of a simple form of the Economic Dispatch problem.\n",
    "\n",
    "The optimization problem is formulated as follows:\n",
    "\n",
    "\\begin{align}\n",
    "&\\text{Minimize} \\ C = \\sum_{i}(a_i+b_i \\cdot P_i + c_i \\cdot P_i^2) \\\\\n",
    "&\\text{subject to:} \\\\\n",
    "&\\sum_{i} P_i = D \\ \\forall i \\\\\n",
    "&P_i^{min} \\leq P_i \\leq P_i^{max} \\ \\forall i \\\\\n",
    "&P_i \\geq 0 \\ \\forall i\n",
    "\\end{align}\n",
    "\n",
    "The goal of the optimization problem is to find the optimal power output of each unit in order to serve the total load at a minimum cost.\n",
    "\n",
    "<b>In this tutorial we will:</b> <br>\n",
    "1) develop an optimization model using Pyomo to solve the problem above <br>\n",
    "2) show how to extract the results of the solved model <br>\n",
    "3) visualize the results using Matplotlib library\n"
   ]
  },
  {
   "cell_type": "markdown",
   "metadata": {},
   "source": [
    "\n",
    "<h2>Part I: Loading the data</h2>\n"
   ]
  },
  {
   "cell_type": "markdown",
   "metadata": {},
   "source": [
    "\n",
    "First, we need to import several packages that we will be using to load the input data, to build the model, and finally, to process and analyze the results.\n"
   ]
  },
  {
   "cell_type": "code",
   "execution_count": 17,
   "metadata": {},
   "outputs": [],
   "source": [
    "\n",
    "import pandas\n",
    "import numpy\n",
    "from pyomo.environ import *\n",
    "import matplotlib.pyplot as plt\n"
   ]
  },
  {
   "cell_type": "markdown",
   "metadata": {},
   "source": [
    "\n",
    "Data can be provided in various formats. For this example, we assume that the data are given in the form of an excel spreadsheet (.xlsx files). In this tutorial we will be using [Pandas](http://pandas.pydata.org/), a powerfull Python data analysis toolkit, to parse the .xlsx files.\n"
   ]
  },
  {
   "cell_type": "code",
   "execution_count": 18,
   "metadata": {},
   "outputs": [
    {
     "name": "stdout",
     "output_type": "stream",
     "text": [
      "         a    b      c  Min  Max\n",
      "                                \n",
      "Unit1  500  5.3  0.004  200  450\n",
      "Unit2  400  5.5  0.006  150  350\n",
      "Unit3  200  5.8  0.009  100  225\n"
     ]
    }
   ],
   "source": [
    "\n",
    "UnitData = pandas.read_excel('ED_input.xlsx', sheet_name = 'Units', index_col= 0)\n",
    "\n",
    "print(UnitData)\n",
    "\n",
    "#Also, let us define a python variable that holds the value of the load \n",
    "D = 550\n"
   ]
  },
  {
   "cell_type": "markdown",
   "metadata": {},
   "source": [
    "\n",
    "<h2>Part II: Defining the model</h2>\n"
   ]
  },
  {
   "cell_type": "markdown",
   "metadata": {},
   "source": [
    "\n",
    "To define a model, first a [pyomo](http://www.pyomo.org/) object has to be created. Then, the sets, parameters, decision variables and constraints of the problem should be stated.\n"
   ]
  },
  {
   "cell_type": "code",
   "execution_count": 19,
   "metadata": {},
   "outputs": [],
   "source": [
    "\n",
    "model = ConcreteModel()\n",
    "\n",
    "#import suffixes (marginal values) -- \"import them from the solver\"\n",
    "model.dual = Suffix(direction=Suffix.IMPORT) \n",
    "\n",
    "#Define sets\n",
    "model.I = Set(ordered = True, initialize = UnitData.index)\n",
    "\n",
    "#Define parameters\n",
    "model.Pmax = Param(model.I, within = NonNegativeReals, mutable = True)\n",
    "model.Pmin = Param(model.I, within = NonNegativeReals, mutable = True)\n",
    "\n",
    "model.a = Param(model.I, within = NonNegativeReals, mutable = True)\n",
    "model.b = Param(model.I, within = NonNegativeReals, mutable = True)\n",
    "model.c = Param(model.I, within = NonNegativeReals, mutable = True)\n"
   ]
  },
  {
   "cell_type": "code",
   "execution_count": 20,
   "metadata": {},
   "outputs": [],
   "source": [
    "\n",
    "#Give values to Pmax, Pmin, a, b, c\n",
    "\n",
    "for i in model.I:\n",
    "    model.Pmax[i] = UnitData.loc[i,'Max']\n",
    "    model.Pmin[i] = UnitData.loc[i,'Min']\n",
    "    model.a[i] = UnitData.loc[i, 'a']\n",
    "    model.b[i] = UnitData.loc[i, 'b']\n",
    "    model.c[i] = UnitData.loc[i, 'c']\n"
   ]
  },
  {
   "cell_type": "code",
   "execution_count": 21,
   "metadata": {},
   "outputs": [],
   "source": [
    "\n",
    "#Define decision variables\n",
    "\n",
    "model.P = Var(model.I, within = PositiveReals)\n"
   ]
  },
  {
   "cell_type": "code",
   "execution_count": 22,
   "metadata": {},
   "outputs": [
    {
     "name": "stdout",
     "output_type": "stream",
     "text": [
      "Unit1\n",
      "a[Unit1]\n",
      "b[Unit1]*P[Unit1]\n",
      "Unit2\n",
      "a[Unit2]\n",
      "b[Unit2]*P[Unit2]\n",
      "Unit3\n",
      "a[Unit3]\n",
      "b[Unit3]*P[Unit3]\n"
     ]
    }
   ],
   "source": [
    "\n",
    "#Define constraints and objective of the problem\n",
    "\n",
    "def cost_rule(model):\n",
    "    for i in model.I:\n",
    "        print(i)\n",
    "        print(model.a[i])\n",
    "        print(model.b[i]*model.P[i])\n",
    "    return sum(model.a[i] + model.b[i]*model.P[i]+model.c[i]*model.P[i]*model.P[i] for i in model.I)\n",
    "\n",
    "def min_rule(model, i):\n",
    "    return model.Pmin[i] <= model.P[i] \n",
    "\n",
    "def max_rule(model, i):\n",
    "    return model.P[i] <= model.Pmax[i]\n",
    "\n",
    "def pbalance_rule(model):\n",
    "    return sum(model.P[i] for i in model.I) == D\n",
    "\n",
    "#Add them to the model\n",
    "\n",
    "model.cost = Objective(rule = cost_rule)\n",
    "model.unit_out_min_constraint = Constraint(model.I, rule = min_rule)\n",
    "model.unit_out_max_constraint = Constraint(model.I, rule = max_rule)\n",
    "model.balance = Constraint(rule = pbalance_rule)\n"
   ]
  },
  {
   "cell_type": "markdown",
   "metadata": {},
   "source": [
    "\n",
    "<h2>Part III: Solving the optimization problem, extracting and displaying results</h2>\n"
   ]
  },
  {
   "cell_type": "markdown",
   "metadata": {},
   "source": [
    "\n",
    "Define the solver (in this case [Gurobi](http://www.gurobi.com/)) to be used and solve the model that we have defined earlier.\n"
   ]
  },
  {
   "cell_type": "code",
   "execution_count": 23,
   "metadata": {},
   "outputs": [],
   "source": [
    "\n",
    "opt=SolverFactory('gurobi')\n",
    "results=opt.solve(model)\n"
   ]
  },
  {
   "cell_type": "markdown",
   "metadata": {},
   "source": [
    "\n",
    "<b>Now we can extract and manipulate the results...</b>\n"
   ]
  },
  {
   "cell_type": "code",
   "execution_count": 24,
   "metadata": {},
   "outputs": [
    {
     "name": "stdout",
     "output_type": "stream",
     "text": [
      "Marginal cost:  7.5399999999719425\n",
      "Total cost:  4676.00000000035\n"
     ]
    }
   ],
   "source": [
    "\n",
    "model\n",
    "#print the marginal value of the power balance constraint\n",
    "print(\"Marginal cost: \",model.balance.get_suffix_value(model.dual))  \n",
    "\n",
    "#print the total production cost\n",
    "print(\"Total cost: \", model.cost())\n"
   ]
  },
  {
   "cell_type": "code",
   "execution_count": 25,
   "metadata": {},
   "outputs": [
    {
     "name": "stdout",
     "output_type": "stream",
     "text": [
      "Unit1  279.99999999649674\n",
      "Unit2  169.9999999976721\n",
      "Unit3  100.00000000583117\n",
      "----------\n",
      "Unit1 279.99999999649674\n",
      "Unit2 169.9999999976721\n",
      "Unit3 100.00000000583117\n",
      "----------\n"
     ]
    }
   ],
   "source": [
    "\n",
    "#print the optimal power output of the generators\n",
    "\n",
    "print(\"Unit1 \", model.P['Unit1'].value)\n",
    "print(\"Unit2 \",model.P['Unit2'].value)\n",
    "print(\"Unit3 \",model.P['Unit3'].value)\n",
    "\n",
    "print('----------')\n",
    "\n",
    "#An alternative way:\n",
    "for i in model.I:\n",
    "    print(i, model.P[i].value)\n",
    "\n",
    "print('----------')\n"
   ]
  },
  {
   "cell_type": "markdown",
   "metadata": {},
   "source": [
    "\n",
    "<b>We can save it in various ways depending on our needs:</b>\n"
   ]
  },
  {
   "cell_type": "code",
   "execution_count": 26,
   "metadata": {},
   "outputs": [
    {
     "name": "stdout",
     "output_type": "stream",
     "text": [
      "Using list of tuples:\n",
      "[('Unit1', 279.99999999649674), ('Unit2', 169.9999999976721), ('Unit3', 100.00000000583117)]\n",
      "----------\n",
      "Using list of tuples - list comprehension:\n",
      "[('Unit1', 279.99999999649674), ('Unit2', 169.9999999976721), ('Unit3', 100.00000000583117)]\n",
      "----------\n",
      "Using dictionary:\n",
      "{'Unit1': 279.99999999649674, 'Unit2': 169.9999999976721, 'Unit3': 100.00000000583117}\n",
      "----------\n",
      "Using numpy array:\n",
      "[[280.         170.         100.00000001]]\n",
      "[[280.        ]\n",
      " [170.        ]\n",
      " [100.00000001]]\n"
     ]
    }
   ],
   "source": [
    "\n",
    "# append values in a list as (unit name, output) tuples\n",
    "unit_output = []\n",
    "for i in model.I:\n",
    "    unit_output.append((i, model.P[i].value))\n",
    "\n",
    "print('Using list of tuples:')\n",
    "print(unit_output)\n",
    "print('----------')\n",
    "\n",
    "# when it comes to storing our results in a list, we can use an alternative syntax (the \"pythonic\" way) \n",
    "# which is computationally more efficient. This is called a \"list comprehension\"\n",
    "\n",
    "unit_output2 = [(i,model.P[i].value) for i in model.I]\n",
    "\n",
    "print('Using list of tuples - list comprehension:')\n",
    "print(unit_output2)\n",
    "print('----------')\n",
    "\n",
    "# create a dictionary (key, value) <-- (unit name, output)\n",
    "unit_output3 = {}\n",
    "for i in model.I:\n",
    "    unit_output3[i] = model.P[i].value\n",
    "\n",
    "print('Using dictionary:')\n",
    "print(unit_output3)\n",
    "print('----------')\n",
    "\n",
    "# create a numpy array - (1 x number of units) vector\n",
    "#This is useful if we have more dimensions, e.g., time: number of periods x number of units, i.e., each \"cell\" contains\n",
    "#the power output of unit i in each period t\n",
    "\n",
    "unit_output4 = numpy.zeros((1,len(model.I)))\n",
    "\n",
    "for i_in, i in enumerate(model.I): #i_in contains the name, i contains the index\n",
    "    unit_output4[0,i_in] = model.P[i].value\n",
    "\n",
    "\n",
    "print('Using numpy array:')    \n",
    "print(unit_output4)\n",
    "print(unit_output4.T)\n"
   ]
  },
  {
   "cell_type": "markdown",
   "metadata": {},
   "source": [
    "\n",
    "<b>We can also write results to a .csv or an .xlsx file (actually, in any format we need to): </b>\n"
   ]
  },
  {
   "cell_type": "code",
   "execution_count": 27,
   "metadata": {},
   "outputs": [
    {
     "name": "stdout",
     "output_type": "stream",
     "text": [
      "       Power[MW]\n",
      "I               \n",
      "Unit1      280.0\n",
      "Unit2      170.0\n",
      "Unit3      100.0\n"
     ]
    }
   ],
   "source": [
    "\n",
    "#First create a Pandas dataframe\n",
    "\n",
    "out_df = pandas.DataFrame(unit_output4.T, index = model.I, columns=[\"Power[MW]\"])\n",
    "#we could pass a custom list of names for our index, e.g., index = [\"U1\",\"U2\",\"U3\"]\n",
    "print(out_df)\n",
    "\n",
    "#Then write it in a csv\n",
    "\n",
    "out_df.to_csv(\"results_ED.csv\")\n"
   ]
  },
  {
   "cell_type": "markdown",
   "metadata": {},
   "source": [
    "\n",
    "<b>Finally, we can use [matplotlib](https://matplotlib.org/) in order to create some visualizations of the results: </b>\n"
   ]
  },
  {
   "cell_type": "code",
   "execution_count": 28,
   "metadata": {
    "pycharm": {
     "name": "#%%\n"
    }
   },
   "outputs": [
    {
     "name": "stdout",
     "output_type": "stream",
     "text": [
      "['Unit1', 'Unit2', 'Unit3']\n",
      "[279.99999999649674, 169.9999999976721, 100.00000000583117]\n"
     ]
    },
    {
     "data": {
      "text/plain": "<Figure size 432x288 with 1 Axes>",
      "image/png": "[encoded data removed]"
     },
     "metadata": {},
     "output_type": "display_data"
    }
   ],
   "source": [
    "\n",
    "# Pie chart, where the slices will be ordered and plotted counter-clockwise:\n",
    "labels = out_df.index.values.tolist()\n",
    "print(labels)\n",
    "sizes = out_df['Power[MW]'].tolist()\n",
    "print(sizes)\n",
    "\n",
    "#we want to \"explode\" the piece that has the greatest contribution in production\n",
    "explode = [0] * len(sizes)\n",
    "unit_max_contr = numpy.argmax(sizes)\n",
    "explode[unit_max_contr] = 0.1\n",
    "\n",
    "fig1, ax1 = plt.subplots()\n",
    "\n",
    "ax1.pie(sizes, labels=labels, explode = explode, autopct='%1.1f%%', shadow=True, startangle=90)\n",
    "ax1.axis('equal')\n",
    "\n",
    "plt.title(\"Percentage of load demand covered by generating units\")\n",
    "plt.show()\n"
   ]
  },
  {
   "cell_type": "code",
   "execution_count": 29,
   "metadata": {
    "pycharm": {
     "name": "#%%\n"
    }
   },
   "outputs": [
    {
     "name": "stdout",
     "output_type": "stream",
     "text": [
      "0\n",
      "3\n",
      "6\n",
      "9\n",
      "12\n",
      "15\n",
      "18\n",
      "21\n",
      "24\n",
      "27\n"
     ]
    },
    {
     "data": {
      "text/plain": "[None, None, None, None, None, None, None, None, None, None]"
     },
     "execution_count": 29,
     "metadata": {},
     "output_type": "execute_result"
    }
   ],
   "source": [
    "\n",
    "x = 27\n",
    "[print(i) for i in range(0, x+1, 3)]\n"
   ]
  }
 ],
 "metadata": {
  "kernelspec": {
   "display_name": "Python 3",
   "language": "python",
   "name": "python3"
  },
  "language_info": {
   "codemirror_mode": {
    "name": "ipython",
    "version": 3
   },
   "file_extension": ".py",
   "mimetype": "text/x-python",
   "name": "python",
   "nbconvert_exporter": "python",
   "pygments_lexer": "ipython3",
   "version": "3.7.3"
  }
 },
 "nbformat": 4,
 "nbformat_minor": 2
}