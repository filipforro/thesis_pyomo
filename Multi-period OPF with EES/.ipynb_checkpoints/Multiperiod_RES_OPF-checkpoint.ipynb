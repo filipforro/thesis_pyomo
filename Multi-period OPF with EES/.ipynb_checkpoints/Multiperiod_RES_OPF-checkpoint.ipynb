{
 "cells": [
  {
   "cell_type": "code",
   "execution_count": null,
   "metadata": {
    "pycharm": {
     "is_executing": true
    }
   },
   "outputs": [],
   "source": [
    "from pyomo.environ import *\n",
    "from pyomo.opt import SolverStatus, TerminationCondition\n",
    "import pandas as pd\n",
    "import numpy as np\n",
    "import matplotlib.pyplot as plt\n",
    "import matplotlib.colors as mcolors\n",
    "import seaborn as sns\n",
    "import numpy as np\n",
    "#This is a custom function that writes all the decision variables to an excel file.\n",
    "from Helper_Functions.exportDecisionVariables import exportDecisionVariables\n",
    "\n",
    "\n",
    "def readInputFile(filename):\n",
    "    NetworkData = pd.read_excel(filename, sheet_name= 'NetworkData', index_col=0)\n",
    "    SystemDemand= pd.read_excel(filename, sheet_name = 'SystemDemand', index_col= 0)\n",
    "    PVGeneration = pd.read_excel(filename, sheet_name='PVGeneration', index_col=0)\n",
    "    WindGeneration = pd.read_excel(filename, sheet_name='WindGeneration', index_col=0) \n",
    "    LoadData = pd.read_excel(filename, sheet_name = 'Loads', index_col= 0)\n",
    "    PVData = pd.read_excel(filename, sheet_name='PVParks', index_col=0)\n",
    "    WPData = pd.read_excel(filename, sheet_name='WindParks', index_col=0)\n",
    "    StorageData = pd.read_excel(filename, sheet_name= 'StorageSystems', index_col=0)\n",
    "    UnitData = pd.read_excel(filename, sheet_name = 'Generators', index_col= 0)\n",
    "    GeneratorStepSizeData = pd.read_excel(filename, sheet_name = 'GeneratorStepSize', index_col= 0)\n",
    "    GeneratorStepCostData = pd.read_excel(filename, sheet_name = 'GeneratorStepCost', index_col= 0)\n",
    "    \n",
    "    # We could return multiple items but it is preferable to return a structure, in this case a dictionary \n",
    "    return {'NetworkData':NetworkData, 'SystemDemand':SystemDemand, 'PVGeneration':PVGeneration, 'WindGeneration':WindGeneration,\n",
    "            'LoadData':LoadData, 'PVData':PVData, 'WPData':WPData,'StorageData':StorageData,'UnitData':UnitData,\n",
    "            'GeneratorStepSizeData':GeneratorStepSizeData, 'GeneratorStepCostData':GeneratorStepCostData}\n",
    "\n",
    "validation_data = readInputFile(r'Input_Files\\Assignment3_ValidationSystem.xlsx')\n",
    "data = readInputFile(r'Input_Files\\Assignment3_InputData.xlsx')"
   ]
  },
  {
   "cell_type": "code",
   "execution_count": null,
   "metadata": {
    "pycharm": {
     "name": "#%%\n"
    }
   },
   "outputs": [],
   "source": [
    "for i in data.keys():\n",
    "    print(i, ':\\n', validation_data[i])\n",
    "    print('\\n')"
   ]
  },
  {
   "cell_type": "code",
   "execution_count": null,
   "metadata": {
    "pycharm": {
     "name": "#%%\n"
    }
   },
   "outputs": [],
   "source": [
    "def optimizationModel(inputData, modelType):\n",
    "    model = ConcreteModel()\n",
    "\n",
    "    NetworkData = inputData['NetworkData']\n",
    "    SystemDemand= inputData['SystemDemand']\n",
    "    PVGeneration = inputData['PVGeneration']\n",
    "    WindGeneration = inputData['WindGeneration']\n",
    "    LoadData = inputData['LoadData']\n",
    "    PVData = inputData['PVData']\n",
    "    WPData = inputData['WPData']\n",
    "    StorageData = inputData['StorageData']\n",
    "    UnitData = inputData['UnitData']\n",
    "    GeneratorStepSizeData = inputData['GeneratorStepSizeData']\n",
    "    GeneratorStepCostData = inputData['GeneratorStepCostData']\n",
    "\n",
    "    # Define Sets\n",
    "    model.I = Set(ordered=True, initialize=UnitData.index)\n",
    "    model.T = Set(ordered=True, initialize=SystemDemand.index)\n",
    "    model.F = Set(ordered=True, initialize=GeneratorStepSizeData.columns)\n",
    "    model.S = Set(ordered=True, initialize=StorageData.index)\n",
    "    model.J = Set(ordered=True, initialize=LoadData.index)\n",
    "    \n",
    "    # Define Parameters & Variables\n",
    "\n",
    "    # Initialize Decision Variables\n",
    "\n",
    "    return model\n",
    "\n",
    "model = optimizationModel(data, 4)"
   ]
  }
 ],
 "metadata": {
  "kernelspec": {
   "display_name": "Python 3",
   "language": "python",
   "name": "python3"
  },
  "language_info": {
   "codemirror_mode": {
    "name": "ipython",
    "version": 3
   },
   "file_extension": ".py",
   "mimetype": "text/x-python",
   "name": "python",
   "nbconvert_exporter": "python",
   "pygments_lexer": "ipython3",
   "version": "3.7.3"
  }
 },
 "nbformat": 4,
 "nbformat_minor": 1
}
