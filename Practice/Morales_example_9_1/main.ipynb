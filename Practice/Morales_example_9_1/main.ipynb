{
 "cells": [
  {
   "cell_type": "code",
   "execution_count": 134,
   "metadata": {
    "collapsed": true
   },
   "outputs": [],
   "source": [
    "from pyomo.environ import *\n",
    "import pandas as pd\n",
    "import matplotlib.pyplot as plt"
   ]
  },
  {
   "cell_type": "code",
   "execution_count": 135,
   "outputs": [],
   "source": [
    "b = 100\n",
    "U_h = 3\n",
    "U_up = 8\n",
    "U_down = 6\n",
    "R_up = 1.5\n",
    "R_down = 1.5\n",
    "u0 = 0\n",
    "\n",
    "data = pd.read_excel('data.xlsx', index_col=0)\n",
    "\n"
   ],
   "metadata": {
    "collapsed": false,
    "pycharm": {
     "name": "#%%\n"
    }
   }
  },
  {
   "cell_type": "code",
   "execution_count": 136,
   "outputs": [],
   "source": [
    "model = ConcreteModel()\n",
    "\n",
    "# DEFINE SETS\n",
    "model.T = Set(ordered=True, initialize=data.index)\n",
    "\n",
    "# DEFINE PARAMETERS\n",
    "model.lamb = Param(model.T, within=NonNegativeReals, mutable=True)\n",
    "\n",
    "# INITIALIZE PARAMETERS\n",
    "for t in model.T:\n",
    "    model.lamb[t] = data.loc[t, 'price']\n",
    "\n",
    "# DEFINE VARIABLES\n",
    "model.u = Var(model.T, within=NonNegativeReals)\n",
    "\n",
    "# DEFINE COST AND CONSTRAINTS\n",
    "def cost_rule(model):\n",
    "    return sum((model.lamb[t] - b)*model.u[t] for t in model.T)\n",
    "model.cost = Objective(rule=cost_rule)\n",
    "\n",
    "def ramp_up_rule(model, t):\n",
    "    if model.T.ord(t) == 1:\n",
    "        return model.u[t] - u0 <= R_up\n",
    "    else:\n",
    "        return model.u[t] - model.u[model.T.prev(t)] <= R_up\n",
    "model.ramp_up = Constraint(model.T, rule=ramp_up_rule)\n",
    "\n",
    "def ramp_down_rule(model, t):\n",
    "    if model.T.ord(t) == 1:\n",
    "        return model.u[t] - u0 >= -R_down\n",
    "    else:\n",
    "        return model.u[t] - model.u[model.T.prev(t)] >= -R_down\n",
    "model.ramp_down = Constraint(model.T, rule=ramp_down_rule)\n",
    "\n",
    "def max_consumption_rule(model, t):\n",
    "    return model.u[t] <= U_h\n",
    "model.max_consumption = Constraint(model.T, rule=max_consumption_rule)\n",
    "\n",
    "def minmax_total_cons_rule(model):\n",
    "    return inequality(U_down, sum(model.u[t] for t in model.T), U_up)\n",
    "model.minmax_total_const = Constraint(rule=minmax_total_cons_rule)"
   ],
   "metadata": {
    "collapsed": false,
    "pycharm": {
     "name": "#%%\n"
    }
   }
  },
  {
   "cell_type": "code",
   "execution_count": 137,
   "outputs": [
    {
     "name": "stdout",
     "output_type": "stream",
     "text": [
      "1 Set Declarations\n",
      "    T : Dim=0, Dimen=1, Size=4, Domain=None, Ordered=Insertion, Bounds=None\n",
      "        ['t1', 't2', 't3', 't4']\n",
      "\n",
      "1 Param Declarations\n",
      "    lamb : Size=4, Index=T, Domain=NonNegativeReals, Default=None, Mutable=True\n",
      "        Key : Value\n",
      "         t1 :   120\n",
      "         t2 :    75\n",
      "         t3 :   110\n",
      "         t4 :    60\n",
      "\n",
      "1 Var Declarations\n",
      "    u : Size=4, Index=T\n",
      "        Key : Lower : Value : Upper : Fixed : Stale : Domain\n",
      "         t1 :     0 :  None :  None : False :  True : NonNegativeReals\n",
      "         t2 :     0 :  None :  None : False :  True : NonNegativeReals\n",
      "         t3 :     0 :  None :  None : False :  True : NonNegativeReals\n",
      "         t4 :     0 :  None :  None : False :  True : NonNegativeReals\n",
      "\n",
      "1 Objective Declarations\n",
      "    cost : Size=1, Index=None, Active=True\n",
      "        Key  : Active : Sense    : Expression\n",
      "        None :   True : minimize : (lamb[t1] -100)*u[t1] + (lamb[t2] -100)*u[t2] + (lamb[t3] -100)*u[t3] + (lamb[t4] -100)*u[t4]\n",
      "\n",
      "4 Constraint Declarations\n",
      "    max_consumption : Size=4, Index=T, Active=True\n",
      "        Key : Lower : Body  : Upper : Active\n",
      "         t1 :  -Inf : u[t1] :   3.0 :   True\n",
      "         t2 :  -Inf : u[t2] :   3.0 :   True\n",
      "         t3 :  -Inf : u[t3] :   3.0 :   True\n",
      "         t4 :  -Inf : u[t4] :   3.0 :   True\n",
      "    minmax_total_const : Size=1, Index=None, Active=True\n",
      "        Key  : Lower : Body                          : Upper : Active\n",
      "        None :   6.0 : u[t1] + u[t2] + u[t3] + u[t4] :   8.0 :   True\n",
      "    ramp_down : Size=4, Index=T, Active=True\n",
      "        Key : Lower : Body          : Upper : Active\n",
      "         t1 :  -1.5 :         u[t1] :  +Inf :   True\n",
      "         t2 :  -1.5 : u[t2] - u[t1] :  +Inf :   True\n",
      "         t3 :  -1.5 : u[t3] - u[t2] :  +Inf :   True\n",
      "         t4 :  -1.5 : u[t4] - u[t3] :  +Inf :   True\n",
      "    ramp_up : Size=4, Index=T, Active=True\n",
      "        Key : Lower : Body          : Upper : Active\n",
      "         t1 :  -Inf :         u[t1] :   1.5 :   True\n",
      "         t2 :  -Inf : u[t2] - u[t1] :   1.5 :   True\n",
      "         t3 :  -Inf : u[t3] - u[t2] :   1.5 :   True\n",
      "         t4 :  -Inf : u[t4] - u[t3] :   1.5 :   True\n",
      "\n",
      "8 Declarations: T lamb u cost ramp_up ramp_down max_consumption minmax_total_const\n"
     ]
    }
   ],
   "source": [
    "model.pprint()"
   ],
   "metadata": {
    "collapsed": false,
    "pycharm": {
     "name": "#%%\n"
    }
   }
  },
  {
   "cell_type": "code",
   "execution_count": 138,
   "outputs": [],
   "source": [
    "opt = SolverFactory('gurobi')\n",
    "results = opt.solve(model)"
   ],
   "metadata": {
    "collapsed": false,
    "pycharm": {
     "name": "#%%\n"
    }
   }
  },
  {
   "cell_type": "code",
   "execution_count": 139,
   "outputs": [
    {
     "data": {
      "text/plain": "   Consumption Price\nt1           1   120\nt2         2.5    75\nt3         1.5   110\nt4           3    60",
      "text/html": "<div>\n<style scoped>\n    .dataframe tbody tr th:only-of-type {\n        vertical-align: middle;\n    }\n\n    .dataframe tbody tr th {\n        vertical-align: top;\n    }\n\n    .dataframe thead th {\n        text-align: right;\n    }\n</style>\n<table border=\"1\" class=\"dataframe\">\n  <thead>\n    <tr style=\"text-align: right;\">\n      <th></th>\n      <th>Consumption</th>\n      <th>Price</th>\n    </tr>\n  </thead>\n  <tbody>\n    <tr>\n      <th>t1</th>\n      <td>1</td>\n      <td>120</td>\n    </tr>\n    <tr>\n      <th>t2</th>\n      <td>2.5</td>\n      <td>75</td>\n    </tr>\n    <tr>\n      <th>t3</th>\n      <td>1.5</td>\n      <td>110</td>\n    </tr>\n    <tr>\n      <th>t4</th>\n      <td>3</td>\n      <td>60</td>\n    </tr>\n  </tbody>\n</table>\n</div>"
     },
     "execution_count": 139,
     "metadata": {},
     "output_type": "execute_result"
    }
   ],
   "source": [
    "ideal_consumption = pd.DataFrame(index=data.index, columns=['Consumption', 'Price'])\n",
    "for t in model.T:\n",
    "    ideal_consumption.loc[t, 'Consumption'] = value(model.u[t])\n",
    "    ideal_consumption.loc[t, 'Price'] = data.loc[t, 'price']\n",
    "ideal_consumption"
   ],
   "metadata": {
    "collapsed": false,
    "pycharm": {
     "name": "#%%\n"
    }
   }
  },
  {
   "cell_type": "code",
   "execution_count": 153,
   "outputs": [
    {
     "data": {
      "text/plain": "Text(0, 0.5, 'Price ($/MWh)')"
     },
     "execution_count": 153,
     "metadata": {},
     "output_type": "execute_result"
    },
    {
     "data": {
      "text/plain": "<Figure size 432x288 with 2 Axes>",
      "image/png": "[encoded data removed]"
     },
     "metadata": {
      "needs_background": "light"
     },
     "output_type": "display_data"
    }
   ],
   "source": [
    "fig, axes = plt.subplots(nrows=1, ncols=2, squeeze=False)\n",
    "\n",
    "ideal_consumption['Consumption'].plot(ax=axes[0,0])\n",
    "ideal_consumption['Price'].plot(ax=axes[0,1])\n",
    "axes[0,0].set_xlabel('Time Period');axes[0,0].set_ylabel('Load (kWh)')\n",
    "axes[0,1].set_xlabel('Time Period');axes[0,1].set_ylabel('Price ($/MWh)')"
   ],
   "metadata": {
    "collapsed": false,
    "pycharm": {
     "name": "#%%\n"
    }
   }
  }
 ],
 "metadata": {
  "kernelspec": {
   "display_name": "Python 3",
   "language": "python",
   "name": "python3"
  },
  "language_info": {
   "codemirror_mode": {
    "name": "ipython",
    "version": 2
   },
   "file_extension": ".py",
   "mimetype": "text/x-python",
   "name": "python",
   "nbconvert_exporter": "python",
   "pygments_lexer": "ipython2",
   "version": "2.7.6"
  }
 },
 "nbformat": 4,
 "nbformat_minor": 0
}