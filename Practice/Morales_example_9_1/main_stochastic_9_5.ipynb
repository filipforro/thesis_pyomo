{
 "cells": [
  {
   "cell_type": "code",
   "execution_count": 176,
   "metadata": {
    "collapsed": true
   },
   "outputs": [],
   "source": [
    "from pyomo.environ import *\n",
    "import pandas as pd\n",
    "import matplotlib.pyplot as plt"
   ]
  },
  {
   "cell_type": "code",
   "execution_count": 177,
   "outputs": [
    {
     "name": "stdout",
     "output_type": "stream",
     "text": [
      "    price\n",
      "t1    120\n",
      "t2     75\n",
      "t3    110\n",
      "t4     60\n",
      "    prob   t1   t2   t3  t4\n",
      "s1   0.5  120  105  154  84\n",
      "s2   0.5  120   45   66  36\n"
     ]
    }
   ],
   "source": [
    "b = 100\n",
    "U_h = 3\n",
    "U_up = 8\n",
    "U_down = 6\n",
    "R_up = 1.5\n",
    "R_down = 1.5\n",
    "u0 = 0\n",
    "\n",
    "prob = [0.5, 0.5]\n",
    "\n",
    "data = pd.read_excel('data.xlsx', index_col=0)\n",
    "print(data)\n",
    "data_prob = {'prob': [0.5, 0.5],\n",
    "             't1': [120, 120],\n",
    "             't2': [105, 45],\n",
    "             't3': [154, 66],\n",
    "             't4': [84, 36]\n",
    "            }\n",
    "data_prob = pd.DataFrame(data_prob, index=['s1','s2'])\n",
    "#prices at time t\n",
    "print(data_prob)"
   ],
   "metadata": {
    "collapsed": false,
    "pycharm": {
     "name": "#%%\n"
    }
   }
  },
  {
   "cell_type": "code",
   "execution_count": 178,
   "outputs": [],
   "source": [
    "model = ConcreteModel()\n",
    "\n",
    "# DEFINE SETS\n",
    "model.T_det = Set(ordered=True, initialize=data.index[:1])\n",
    "model.T_stoch = Set(ordered=True, initialize=data.index[1:])\n",
    "model.S = Set(ordered=True, initialize=data_prob.index)\n",
    "\n",
    "# DEFINE PARAMETERS\n",
    "model.lamb_stoch = Param(model.T_stoch, model.S, within=NonNegativeReals, mutable=True)\n",
    "model.prob = Param(model.S, within=NonNegativeReals, mutable=True)\n",
    "\n",
    "# INITIALIZE PARAMETERS\n",
    "for t in model.T_stoch:\n",
    "    for s in model.S:\n",
    "        model.lamb_stoch[t,s] = data_prob.loc[s, t]\n",
    "\n",
    "for s in model.S:\n",
    "    model.prob[s] = data_prob.loc[s, 'prob']\n",
    "\n",
    "# DEFINE VARIABLES\n",
    "model.u_det = Var(model.T_det, within=NonNegativeReals)\n",
    "model.u_stoch = Var(model.T_stoch, model.S, within=NonNegativeReals)\n",
    "\n",
    "# DEFINE COST AND CONSTRAINTS\n",
    "def cost_rule(model):\n",
    "    return (120 - b)*model.u_det['t1'] + \\\n",
    "            sum(model.prob[s]*((model.lamb_stoch[t,s] - b)*model.u_stoch[t,s]) for t in model.T_stoch for s in model.S)\n",
    "model.cost = Objective(rule=cost_rule)\n",
    "\n",
    "def ramp_up_rule_det(model, t):\n",
    "    return model.u_det[t] - u0 <= R_up\n",
    "model.ramp_up_det = Constraint(model.T_det, rule=ramp_up_rule_det)\n",
    "\n",
    "def ramp_up_rule_stoch(model, tdet, tstoch, s):\n",
    "    if model.T_stoch.ord(tstoch) == 1:\n",
    "        return model.u_stoch[tstoch, s] - model.u_det[tdet] <= R_up\n",
    "    else:\n",
    "        return model.u_stoch[tstoch, s] - model.u_stoch[model.T_stoch.prev(tstoch), s] <= R_up\n",
    "model.ramp_up_stoch = Constraint(model.T_det, model.T_stoch, model.S, rule=ramp_up_rule_stoch)\n",
    "\n",
    "def ramp_down_rule_det(model, t):\n",
    "    return model.u_det[t] - u0 >= -R_down\n",
    "model.ramp_down_det = Constraint(model.T_det, rule=ramp_down_rule_det)\n",
    "\n",
    "def ramp_down_rule_stoch(model, tdet, tstoch, s):\n",
    "    if model.T_stoch.ord(tstoch) == 1:\n",
    "        return model.u_stoch[tstoch, s] - model.u_det[tdet] >= -R_down\n",
    "    else:\n",
    "        return model.u_stoch[tstoch, s] - model.u_stoch[model.T_stoch.prev(tstoch), s] >= -R_down\n",
    "model.ramp_down_stoch = Constraint(model.T_det, model.T_stoch, model.S, rule=ramp_down_rule_stoch)\n",
    "\n",
    "def minmax_cons_rule_det(model, t):\n",
    "    return inequality(0, model.u_det[t], U_h)\n",
    "model.minmax_const_det = Constraint(model.T_det, rule=minmax_cons_rule_det)\n",
    "\n",
    "def minmax_cons_rule_stoch(model, t, s):\n",
    "    return inequality(0, model.u_stoch[t,s], U_h)\n",
    "model.minmax_const_stoch = Constraint(model.T_stoch, model.S, rule=minmax_cons_rule_stoch)\n",
    "\n",
    "def minmax_total_rule(model, tdet, s):\n",
    "    return inequality(U_down, model.u_det[tdet] + sum(model.u_stoch[t, s] for t in model.T_stoch), U_up)\n",
    "model.minmax_total = Constraint(model.T_det, model.S, rule=minmax_total_rule)"
   ],
   "metadata": {
    "collapsed": false,
    "pycharm": {
     "name": "#%%\n"
    }
   }
  },
  {
   "cell_type": "code",
   "execution_count": 179,
   "outputs": [
    {
     "name": "stdout",
     "output_type": "stream",
     "text": [
      "11 Set Declarations\n",
      "    S : Dim=0, Dimen=1, Size=2, Domain=None, Ordered=Insertion, Bounds=None\n",
      "        ['s1', 's2']\n",
      "    T_det : Dim=0, Dimen=1, Size=1, Domain=None, Ordered=Insertion, Bounds=None\n",
      "        ['t1']\n",
      "    T_stoch : Dim=0, Dimen=1, Size=3, Domain=None, Ordered=Insertion, Bounds=None\n",
      "        ['t2', 't3', 't4']\n",
      "    lamb_stoch_index : Dim=0, Dimen=2, Size=6, Domain=None, Ordered=Insertion, Bounds=None\n",
      "        Virtual\n",
      "    minmax_const_stoch_index : Dim=0, Dimen=2, Size=6, Domain=None, Ordered=Insertion, Bounds=None\n",
      "        Virtual\n",
      "    minmax_total_index : Dim=0, Dimen=2, Size=2, Domain=None, Ordered=Insertion, Bounds=None\n",
      "        Virtual\n",
      "    ramp_down_stoch_index : Dim=0, Dimen=3, Size=6, Domain=None, Ordered=Insertion, Bounds=None\n",
      "        Virtual\n",
      "    ramp_down_stoch_index_index_0 : Dim=0, Dimen=2, Size=3, Domain=None, Ordered=Insertion, Bounds=None\n",
      "        Virtual\n",
      "    ramp_up_stoch_index : Dim=0, Dimen=3, Size=6, Domain=None, Ordered=Insertion, Bounds=None\n",
      "        Virtual\n",
      "    ramp_up_stoch_index_index_0 : Dim=0, Dimen=2, Size=3, Domain=None, Ordered=Insertion, Bounds=None\n",
      "        Virtual\n",
      "    u_stoch_index : Dim=0, Dimen=2, Size=6, Domain=None, Ordered=Insertion, Bounds=None\n",
      "        Virtual\n",
      "\n",
      "2 Param Declarations\n",
      "    lamb_stoch : Size=6, Index=lamb_stoch_index, Domain=NonNegativeReals, Default=None, Mutable=True\n",
      "        Key          : Value\n",
      "        ('t2', 's1') :   105\n",
      "        ('t2', 's2') :    45\n",
      "        ('t3', 's1') :   154\n",
      "        ('t3', 's2') :    66\n",
      "        ('t4', 's1') :    84\n",
      "        ('t4', 's2') :    36\n",
      "    prob : Size=2, Index=S, Domain=NonNegativeReals, Default=None, Mutable=True\n",
      "        Key : Value\n",
      "         s1 :   0.5\n",
      "         s2 :   0.5\n",
      "\n",
      "2 Var Declarations\n",
      "    u_det : Size=1, Index=T_det\n",
      "        Key : Lower : Value : Upper : Fixed : Stale : Domain\n",
      "         t1 :     0 :  None :  None : False :  True : NonNegativeReals\n",
      "    u_stoch : Size=6, Index=u_stoch_index\n",
      "        Key          : Lower : Value : Upper : Fixed : Stale : Domain\n",
      "        ('t2', 's1') :     0 :  None :  None : False :  True : NonNegativeReals\n",
      "        ('t2', 's2') :     0 :  None :  None : False :  True : NonNegativeReals\n",
      "        ('t3', 's1') :     0 :  None :  None : False :  True : NonNegativeReals\n",
      "        ('t3', 's2') :     0 :  None :  None : False :  True : NonNegativeReals\n",
      "        ('t4', 's1') :     0 :  None :  None : False :  True : NonNegativeReals\n",
      "        ('t4', 's2') :     0 :  None :  None : False :  True : NonNegativeReals\n",
      "\n",
      "1 Objective Declarations\n",
      "    cost : Size=1, Index=None, Active=True\n",
      "        Key  : Active : Sense    : Expression\n",
      "        None :   True : minimize : prob[s1]*((lamb_stoch[t2,s1] -100)*u_stoch[t2,s1]) + prob[s2]*((lamb_stoch[t2,s2] -100)*u_stoch[t2,s2]) + prob[s1]*((lamb_stoch[t3,s1] -100)*u_stoch[t3,s1]) + prob[s2]*((lamb_stoch[t3,s2] -100)*u_stoch[t3,s2]) + prob[s1]*((lamb_stoch[t4,s1] -100)*u_stoch[t4,s1]) + prob[s2]*((lamb_stoch[t4,s2] -100)*u_stoch[t4,s2]) + 20*u_det[t1]\n",
      "\n",
      "7 Constraint Declarations\n",
      "    minmax_const_det : Size=1, Index=T_det, Active=True\n",
      "        Key : Lower : Body      : Upper : Active\n",
      "         t1 :   0.0 : u_det[t1] :   3.0 :   True\n",
      "    minmax_const_stoch : Size=6, Index=minmax_const_stoch_index, Active=True\n",
      "        Key          : Lower : Body           : Upper : Active\n",
      "        ('t2', 's1') :   0.0 : u_stoch[t2,s1] :   3.0 :   True\n",
      "        ('t2', 's2') :   0.0 : u_stoch[t2,s2] :   3.0 :   True\n",
      "        ('t3', 's1') :   0.0 : u_stoch[t3,s1] :   3.0 :   True\n",
      "        ('t3', 's2') :   0.0 : u_stoch[t3,s2] :   3.0 :   True\n",
      "        ('t4', 's1') :   0.0 : u_stoch[t4,s1] :   3.0 :   True\n",
      "        ('t4', 's2') :   0.0 : u_stoch[t4,s2] :   3.0 :   True\n",
      "    minmax_total : Size=2, Index=minmax_total_index, Active=True\n",
      "        Key          : Lower : Body                                                         : Upper : Active\n",
      "        ('t1', 's1') :   6.0 : u_stoch[t2,s1] + u_stoch[t3,s1] + u_stoch[t4,s1] + u_det[t1] :   8.0 :   True\n",
      "        ('t1', 's2') :   6.0 : u_stoch[t2,s2] + u_stoch[t3,s2] + u_stoch[t4,s2] + u_det[t1] :   8.0 :   True\n",
      "    ramp_down_det : Size=1, Index=T_det, Active=True\n",
      "        Key : Lower : Body      : Upper : Active\n",
      "         t1 :  -1.5 : u_det[t1] :  +Inf :   True\n",
      "    ramp_down_stoch : Size=6, Index=ramp_down_stoch_index, Active=True\n",
      "        Key                : Lower : Body                            : Upper : Active\n",
      "        ('t1', 't2', 's1') :  -1.5 :      u_stoch[t2,s1] - u_det[t1] :  +Inf :   True\n",
      "        ('t1', 't2', 's2') :  -1.5 :      u_stoch[t2,s2] - u_det[t1] :  +Inf :   True\n",
      "        ('t1', 't3', 's1') :  -1.5 : u_stoch[t3,s1] - u_stoch[t2,s1] :  +Inf :   True\n",
      "        ('t1', 't3', 's2') :  -1.5 : u_stoch[t3,s2] - u_stoch[t2,s2] :  +Inf :   True\n",
      "        ('t1', 't4', 's1') :  -1.5 : u_stoch[t4,s1] - u_stoch[t3,s1] :  +Inf :   True\n",
      "        ('t1', 't4', 's2') :  -1.5 : u_stoch[t4,s2] - u_stoch[t3,s2] :  +Inf :   True\n",
      "    ramp_up_det : Size=1, Index=T_det, Active=True\n",
      "        Key : Lower : Body      : Upper : Active\n",
      "         t1 :  -Inf : u_det[t1] :   1.5 :   True\n",
      "    ramp_up_stoch : Size=6, Index=ramp_up_stoch_index, Active=True\n",
      "        Key                : Lower : Body                            : Upper : Active\n",
      "        ('t1', 't2', 's1') :  -Inf :      u_stoch[t2,s1] - u_det[t1] :   1.5 :   True\n",
      "        ('t1', 't2', 's2') :  -Inf :      u_stoch[t2,s2] - u_det[t1] :   1.5 :   True\n",
      "        ('t1', 't3', 's1') :  -Inf : u_stoch[t3,s1] - u_stoch[t2,s1] :   1.5 :   True\n",
      "        ('t1', 't3', 's2') :  -Inf : u_stoch[t3,s2] - u_stoch[t2,s2] :   1.5 :   True\n",
      "        ('t1', 't4', 's1') :  -Inf : u_stoch[t4,s1] - u_stoch[t3,s1] :   1.5 :   True\n",
      "        ('t1', 't4', 's2') :  -Inf : u_stoch[t4,s2] - u_stoch[t3,s2] :   1.5 :   True\n",
      "\n",
      "23 Declarations: T_det T_stoch S lamb_stoch_index lamb_stoch prob u_det u_stoch_index u_stoch cost ramp_up_det ramp_up_stoch_index_index_0 ramp_up_stoch_index ramp_up_stoch ramp_down_det ramp_down_stoch_index_index_0 ramp_down_stoch_index ramp_down_stoch minmax_const_det minmax_const_stoch_index minmax_const_stoch minmax_total_index minmax_total\n"
     ]
    }
   ],
   "source": [
    "model.pprint()"
   ],
   "metadata": {
    "collapsed": false,
    "pycharm": {
     "name": "#%%\n"
    }
   }
  },
  {
   "cell_type": "code",
   "execution_count": 180,
   "outputs": [],
   "source": [
    "opt = SolverFactory('gurobi')\n",
    "results = opt.solve(model)"
   ],
   "metadata": {
    "collapsed": false,
    "pycharm": {
     "name": "#%%\n"
    }
   }
  },
  {
   "cell_type": "code",
   "execution_count": 181,
   "outputs": [
    {
     "name": "stdout",
     "output_type": "stream",
     "text": [
      "Total consumption for each scenario at time period 1-4 and the final total consumption (constrained between 6, 8)\n"
     ]
    },
    {
     "data": {
      "text/plain": "      u1    u2    u3    u4 total\ns1  0.25  1.75  1.25  2.75     6\ns2  0.25  1.75     3     3     8",
      "text/html": "<div>\n<style scoped>\n    .dataframe tbody tr th:only-of-type {\n        vertical-align: middle;\n    }\n\n    .dataframe tbody tr th {\n        vertical-align: top;\n    }\n\n    .dataframe thead th {\n        text-align: right;\n    }\n</style>\n<table border=\"1\" class=\"dataframe\">\n  <thead>\n    <tr style=\"text-align: right;\">\n      <th></th>\n      <th>u1</th>\n      <th>u2</th>\n      <th>u3</th>\n      <th>u4</th>\n      <th>total</th>\n    </tr>\n  </thead>\n  <tbody>\n    <tr>\n      <th>s1</th>\n      <td>0.25</td>\n      <td>1.75</td>\n      <td>1.25</td>\n      <td>2.75</td>\n      <td>6</td>\n    </tr>\n    <tr>\n      <th>s2</th>\n      <td>0.25</td>\n      <td>1.75</td>\n      <td>3</td>\n      <td>3</td>\n      <td>8</td>\n    </tr>\n  </tbody>\n</table>\n</div>"
     },
     "execution_count": 181,
     "metadata": {},
     "output_type": "execute_result"
    }
   ],
   "source": [
    "resData = pd.DataFrame(index=data_prob.index, columns=['t1', 't2', 't3', 't4', 'total'])\n",
    "\n",
    "for s in model.S:\n",
    "    for t in model.T_stoch:\n",
    "        resData.loc[s, t] = value(model.u_stoch[t,s])\n",
    "    resData.loc[s,'t1'] = value(model.u_det['t1'])\n",
    "    resData.loc[s,'total'] = resData.loc[s,:].sum()\n",
    "resData.columns = ['u1','u2','u3','u4','total']\n",
    "print('Total consumption for each scenario at time period 1-4 and the final total consumption (constrained between 6, 8)')\n",
    "resData"
   ],
   "metadata": {
    "collapsed": false,
    "pycharm": {
     "name": "#%%\n"
    }
   }
  }
 ],
 "metadata": {
  "kernelspec": {
   "display_name": "Python 3",
   "language": "python",
   "name": "python3"
  },
  "language_info": {
   "codemirror_mode": {
    "name": "ipython",
    "version": 2
   },
   "file_extension": ".py",
   "mimetype": "text/x-python",
   "name": "python",
   "nbconvert_exporter": "python",
   "pygments_lexer": "ipython2",
   "version": "2.7.6"
  }
 },
 "nbformat": 4,
 "nbformat_minor": 0
}