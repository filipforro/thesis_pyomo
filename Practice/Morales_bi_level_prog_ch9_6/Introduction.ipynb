{
 "cells": [
  {
   "cell_type": "markdown",
   "metadata": {
    "collapsed": true,
    "pycharm": {
     "name": "#%% md\n"
    }
   },
   "source": [
    "# 9.6 Bi-level Programming Models for Dynamic Pricing"
   ]
  },
  {
   "cell_type": "markdown",
   "source": [
    "Control the demand response by choosing an appropriate price signal - optimization comprising the following problems\n",
    "\n",
    "1) The optimization problem of the price-setting entity, which decides the appropriate dynamic price signal in anticipation of the response of the consumers to this\n",
    "price.\n",
    "\n",
    "- UPPER-LEVEL PROBLEM\n",
    "- AGGREGATOR (is coupled with both consumers and stochastic generation - he sets the price of electricity)\n",
    "- Objective to min market trading (max energy utilization/balancing) = min diff between production and consumption\n",
    "\n",
    "2) The consumer problem, which decide on the consumption plan that maximizes\n",
    "their utility function once a dynamic price sequence is given.\n",
    "\n",
    "- LOWER-LEVEL PROBLEM\n"
   ],
   "metadata": {
    "collapsed": false,
    "pycharm": {
     "name": "#%% md\n"
    }
   }
  }
 ],
 "metadata": {
  "kernelspec": {
   "display_name": "Python 3",
   "language": "python",
   "name": "python3"
  },
  "language_info": {
   "codemirror_mode": {
    "name": "ipython",
    "version": 2
   },
   "file_extension": ".py",
   "mimetype": "text/x-python",
   "name": "python",
   "nbconvert_exporter": "python",
   "pygments_lexer": "ipython2",
   "version": "2.7.6"
  }
 },
 "nbformat": 4,
 "nbformat_minor": 0
}