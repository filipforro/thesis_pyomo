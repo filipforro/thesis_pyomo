{
 "cells": [
  {
   "cell_type": "markdown",
   "metadata": {},
   "source": [
    "# Chapter 1"
   ]
  },
  {
   "cell_type": "markdown",
   "metadata": {},
   "source": [
    "## 1.2.1 Simple Examples"
   ]
  },
  {
   "cell_type": "code",
   "execution_count": 1,
   "metadata": {},
   "outputs": [],
   "source": [
    "from pyomo.environ import *"
   ]
  },
  {
   "cell_type": "code",
   "execution_count": 2,
   "metadata": {},
   "outputs": [
    {
     "data": {
      "text/plain": [
       "{'Problem': [{'Name': 'x3', 'Lower bound': 0.8, 'Upper bound': 0.8, 'Number of objectives': 1, 'Number of constraints': 3, 'Number of variables': 3, 'Number of binary variables': 0, 'Number of integer variables': 0, 'Number of continuous variables': 3, 'Number of nonzeros': 5, 'Sense': 'minimize'}], 'Solver': [{'Status': 'ok', 'Return code': '0', 'Message': 'Model was solved to optimality (subject to tolerances), and an optimal solution is available.', 'Termination condition': 'optimal', 'Termination message': 'Model was solved to optimality (subject to tolerances), and an optimal solution is available.', 'Wall time': '0.00152587890625', 'Error rc': 0, 'Time': 0.12276458740234375}], 'Solution': [OrderedDict([('number of solutions', 0), ('number of solutions displayed', 0)])]}"
      ]
     },
     "execution_count": 2,
     "metadata": {},
     "output_type": "execute_result"
    }
   ],
   "source": [
    "model = ConcreteModel()\n",
    "model.x_1 = Var(within=NonNegativeReals)\n",
    "model.x_2 = Var(within=NonNegativeReals)\n",
    "model.obj = Objective(expr = model.x_1 + 2*model.x_2)\n",
    "model.con1 = Constraint(expr = 3*model.x_1 + 4*model.x_2 >= 1)\n",
    "model.con2 = Constraint(expr = 2*model.x_1 + 5*model.x_2 >= 2)\n",
    "\n",
    "opt = SolverFactory('gurobi')\n",
    "opt.solve(model)"
   ]
  },
  {
   "cell_type": "markdown",
   "metadata": {},
   "source": [
    "### Concrete Model"
   ]
  },
  {
   "cell_type": "code",
   "execution_count": 3,
   "metadata": {
    "pycharm": {
     "name": "#%%\n"
    }
   },
   "outputs": [],
   "source": [
    "import mydata\n",
    "\n",
    "model = ConcreteModel()\n",
    "model.x = Var(mydata.N, within=NonNegativeReals)\n",
    "\n",
    "def obj_rule(model):\n",
    "    return sum(mydata.c[i]*model.x[i] for i in mydata.N)\n",
    "model.obj = Objective(rule=obj_rule)\n",
    "\n",
    "def con_rule(model, m):\n",
    "    return sum(mydata.a[i,m]*model.x[i] for i in mydata.N) >= mydata.b[m]\n",
    "model.con = Constraint(mydata.M, rule=con_rule)"
   ]
  },
  {
   "cell_type": "markdown",
   "metadata": {},
   "source": [
    "Way to see what happens in the function and helps debug the def of Pyomo"
   ]
  },
  {
   "cell_type": "code",
   "execution_count": 4,
   "metadata": {
    "pycharm": {
     "name": "#%%\n"
    }
   },
   "outputs": [
    {
     "name": "stdout",
     "output_type": "stream",
     "text": [
      "1.0  <=  3*x[1] + 2*x[2]\n",
      "2.0  <=  4*x[1] + 5*x[2]\n",
      "Objective funtion: x[1] + 2*x[2]\n"
     ]
    }
   ],
   "source": [
    "for m in mydata.b:\n",
    "    print(sum(mydata.a[i,m]*model.x[i] for i in mydata.N) >= mydata.b[m])\n",
    "\n",
    "print('Objective funtion:', model.obj.expr)"
   ]
  },
  {
   "cell_type": "markdown",
   "metadata": {},
   "source": [
    "### Abstract Model"
   ]
  },
  {
   "cell_type": "code",
   "execution_count": 5,
   "metadata": {
    "pycharm": {
     "name": "#%%\n"
    }
   },
   "outputs": [
    {
     "name": "stdout",
     "output_type": "stream",
     "text": [
      "obj\n"
     ]
    }
   ],
   "source": [
    "model = AbstractModel()\n",
    "\n",
    "model.N = Set()\n",
    "model.M = Set()\n",
    "model.c = Param(model.N)\n",
    "model.a = Param(model.M, model.N)\n",
    "model.b = Param(model.N)\n",
    "\n",
    "model.x = Var(model.N, within=NonNegativeReals)\n",
    "\n",
    "def obj_rule(model):\n",
    "    return sum(model.c[i]*model.x[i] for i in model.N)\n",
    "model.obj = Objective(rule=obj_rule)\n",
    "print(model.obj)\n",
    "\n",
    "def con_rule(model, m):\n",
    "    return sum(model.a[i,m]*model.x[i] for i in model.N) >= mydata.b[m]\n",
    "model.con = Constraint(mydata.M, rule=con_rule)"
   ]
  },
  {
   "cell_type": "markdown",
   "metadata": {},
   "source": [
    "# Chapter 2 - Warehouse Example"
   ]
  },
  {
   "cell_type": "code",
   "execution_count": 6,
   "metadata": {
    "pycharm": {
     "name": "#%%\n"
    }
   },
   "outputs": [
    {
     "data": {
      "text/plain": [
       "<matplotlib.image.AxesImage at 0xf7e11b0>"
      ]
     },
     "execution_count": 6,
     "metadata": {},
     "output_type": "execute_result"
    }
   ],
   "source": [
    "import matplotlib.pyplot as plt\n",
    "plt.figure(figsize=(18,10))\n",
    "img = plt.imread('warehouse_example.png')\n",
    "plt.imshow(img)"
   ]
  },
  {
   "cell_type": "markdown",
   "metadata": {},
   "source": [
    "### Concrete example"
   ]
  },
  {
   "cell_type": "code",
   "execution_count": 7,
   "metadata": {},
   "outputs": [],
   "source": [
    "N = {'Harlingen', 'Memphis', 'Ashland'}\n",
    "M = {'NYC', 'LA', 'Chicago', 'Houston'}\n",
    "d = {('Harlingen', 'NYC'): 1956, ('Harlingen', 'LA'): 1606, ('Harlingen', 'Chicago'): 1410, ('Harlingen', 'Houston'): 330, \\\n",
    "    ('Memphis', 'NYC'): 1096, ('Memphis', 'LA'): 1792, ('Memphis', 'Chicago'): 531, ('Memphis', 'Houston'): 567, \\\n",
    "    ('Ashland', 'NYC'): 485, ('Ashland', 'LA'): 2322, ('Ashland', 'Chicago'): 324, ('Ashland', 'Houston'): 1236}\n",
    "P = 2\n",
    "\n",
    "model = ConcreteModel(name='(WL)')"
   ]
  },
  {
   "cell_type": "code",
   "execution_count": 8,
   "metadata": {},
   "outputs": [],
   "source": [
    "# Define decision variables (x(n,m),y(n))\n",
    "model.x = Var(N, M, bounds=(0,1))\n",
    "model.y = Var(N, within=Binary)"
   ]
  },
  {
   "cell_type": "code",
   "execution_count": 9,
   "metadata": {},
   "outputs": [],
   "source": [
    "#---------------------------------------------------------------------------------------------------------\n",
    "#Add Cost to the Model\n",
    "#---------------------------------------------------------------------------------------------------------\n",
    "def obj_rule1(model):\n",
    "    # sum(for outer(n) for inner(m) loop)\n",
    "    return(sum(d[n,m]*model.x[n,m] for n in N for m in M))\n",
    "\n",
    "# def obj_rule2(model):\n",
    "#     return(sum(sum(d[n,m]*model.x[n,m] for m in M) for n in N))\n",
    "\n",
    "# def obj_rule3(model):\n",
    "#     return(sum(d[n,m]*model.x[n,m] for m in M for n in N))\n",
    "\n",
    "#---------------------------------------------------------------------------------------------------------\n",
    "#Add Constraints to the Model\n",
    "#---------------------------------------------------------------------------------------------------------\n",
    "def one_per_cust_rule(model, m):\n",
    "    return(sum(model.x[n,m] for n in N) == 1)\n",
    "\n",
    "def warehouse_active_rule(model, n, m):\n",
    "    return(model.x[n,m] <= model.y[n])\n",
    "\n",
    "def num_warehouses_rule(model):\n",
    "    return(sum(model.y[n] for n in N) <= P)\n",
    "\n",
    "model.obj1 = Objective(rule=obj_rule1)\n",
    "#model.obj2 = Objective(rule=obj_rule2)\n",
    "# model.obj3 = Objective(rule=obj_rule3)\n",
    "model.one_per_cust = Constraint(M, rule=one_per_cust_rule)\n",
    "model.warehouse_active = Constraint(N, M, rule=warehouse_active_rule)\n",
    "model.num_warehouses = Constraint(rule=num_warehouses_rule)"
   ]
  },
  {
   "cell_type": "markdown",
   "metadata": {},
   "source": [
    "### How to print defined objectives and constraints"
   ]
  },
  {
   "cell_type": "code",
   "execution_count": 10,
   "metadata": {},
   "outputs": [
    {
     "name": "stdout",
     "output_type": "stream",
     "text": [
      "2322*x[Ashland,LA] + 1236*x[Ashland,Houston] + 485*x[Ashland,NYC] + 324*x[Ashland,Chicago] + 1792*x[Memphis,LA] + 567*x[Memphis,Houston] + 1096*x[Memphis,NYC] + 531*x[Memphis,Chicago] + 1606*x[Harlingen,LA] + 330*x[Harlingen,Houston] + 1956*x[Harlingen,NYC] + 1410*x[Harlingen,Chicago]\n"
     ]
    }
   ],
   "source": [
    "print(model.obj1.expr) #, '\\n', model.obj2.expr) #, '\\n', model.obj3.expr)"
   ]
  },
  {
   "cell_type": "code",
   "execution_count": 11,
   "metadata": {},
   "outputs": [
    {
     "name": "stdout",
     "output_type": "stream",
     "text": [
      "x[Ashland,LA] + x[Memphis,LA] + x[Harlingen,LA]  ==  1.0\n",
      "x[Ashland,Houston] + x[Memphis,Houston] + x[Harlingen,Houston]  ==  1.0\n",
      "x[Ashland,NYC] + x[Memphis,NYC] + x[Harlingen,NYC]  ==  1.0\n",
      "x[Ashland,Chicago] + x[Memphis,Chicago] + x[Harlingen,Chicago]  ==  1.0\n"
     ]
    }
   ],
   "source": [
    "[print(model.one_per_cust._data[m].expr) for m in M];"
   ]
  },
  {
   "cell_type": "code",
   "execution_count": 12,
   "metadata": {},
   "outputs": [
    {
     "name": "stdout",
     "output_type": "stream",
     "text": [
      "x[Ashland,LA] - y[Ashland]  <=  0.0\n",
      "x[Ashland,Houston] - y[Ashland]  <=  0.0\n",
      "x[Ashland,NYC] - y[Ashland]  <=  0.0\n",
      "x[Ashland,Chicago] - y[Ashland]  <=  0.0\n",
      "x[Memphis,LA] - y[Memphis]  <=  0.0\n",
      "x[Memphis,Houston] - y[Memphis]  <=  0.0\n",
      "x[Memphis,NYC] - y[Memphis]  <=  0.0\n",
      "x[Memphis,Chicago] - y[Memphis]  <=  0.0\n",
      "x[Harlingen,LA] - y[Harlingen]  <=  0.0\n",
      "x[Harlingen,Houston] - y[Harlingen]  <=  0.0\n",
      "x[Harlingen,NYC] - y[Harlingen]  <=  0.0\n",
      "x[Harlingen,Chicago] - y[Harlingen]  <=  0.0\n"
     ]
    }
   ],
   "source": [
    "[print(model.warehouse_active._data[n, m].expr) for n in N for m in M];"
   ]
  },
  {
   "cell_type": "code",
   "execution_count": 13,
   "metadata": {},
   "outputs": [
    {
     "name": "stdout",
     "output_type": "stream",
     "text": [
      "y[Ashland] + y[Memphis] + y[Harlingen]  <=  2.0\n"
     ]
    }
   ],
   "source": [
    "print(model.num_warehouses.expr)"
   ]
  },
  {
   "cell_type": "code",
   "execution_count": 14,
   "metadata": {},
   "outputs": [
    {
     "name": "stdout",
     "output_type": "stream",
     "text": [
      "8 Set Declarations\n",
      "    one_per_cust_index : Dim=0, Dimen=1, Size=4, Domain=None, Ordered=False, Bounds=None\n",
      "        ['Chicago', 'Houston', 'LA', 'NYC']\n",
      "    warehouse_active_index : Dim=0, Dimen=2, Size=12, Domain=None, Ordered=False, Bounds=None\n",
      "        Virtual\n",
      "    warehouse_active_index_0 : Dim=0, Dimen=1, Size=3, Domain=None, Ordered=False, Bounds=None\n",
      "        ['Ashland', 'Harlingen', 'Memphis']\n",
      "    warehouse_active_index_1 : Dim=0, Dimen=1, Size=4, Domain=None, Ordered=False, Bounds=None\n",
      "        ['Chicago', 'Houston', 'LA', 'NYC']\n",
      "    x_index : Dim=0, Dimen=2, Size=12, Domain=None, Ordered=False, Bounds=None\n",
      "        Virtual\n",
      "    x_index_0 : Dim=0, Dimen=1, Size=3, Domain=None, Ordered=False, Bounds=None\n",
      "        ['Ashland', 'Harlingen', 'Memphis']\n",
      "    x_index_1 : Dim=0, Dimen=1, Size=4, Domain=None, Ordered=False, Bounds=None\n",
      "        ['Chicago', 'Houston', 'LA', 'NYC']\n",
      "    y_index : Dim=0, Dimen=1, Size=3, Domain=None, Ordered=False, Bounds=None\n",
      "        ['Ashland', 'Harlingen', 'Memphis']\n",
      "\n",
      "2 Var Declarations\n",
      "    x : Size=12, Index=x_index\n",
      "        Key                      : Lower : Value : Upper : Fixed : Stale : Domain\n",
      "          ('Ashland', 'Chicago') :     0 :   1.0 :     1 : False : False :  Reals\n",
      "          ('Ashland', 'Houston') :     0 :   0.0 :     1 : False : False :  Reals\n",
      "               ('Ashland', 'LA') :     0 :   0.0 :     1 : False : False :  Reals\n",
      "              ('Ashland', 'NYC') :     0 :   1.0 :     1 : False : False :  Reals\n",
      "        ('Harlingen', 'Chicago') :     0 :   0.0 :     1 : False : False :  Reals\n",
      "        ('Harlingen', 'Houston') :     0 :   1.0 :     1 : False : False :  Reals\n",
      "             ('Harlingen', 'LA') :     0 :   1.0 :     1 : False : False :  Reals\n",
      "            ('Harlingen', 'NYC') :     0 :   0.0 :     1 : False : False :  Reals\n",
      "          ('Memphis', 'Chicago') :     0 :   0.0 :     1 : False : False :  Reals\n",
      "          ('Memphis', 'Houston') :     0 :   0.0 :     1 : False : False :  Reals\n",
      "               ('Memphis', 'LA') :     0 :   0.0 :     1 : False : False :  Reals\n",
      "              ('Memphis', 'NYC') :     0 :   0.0 :     1 : False : False :  Reals\n",
      "    y : Size=3, Index=y_index\n",
      "        Key       : Lower : Value : Upper : Fixed : Stale : Domain\n",
      "          Ashland :     0 :   1.0 :     1 : False : False : Binary\n",
      "        Harlingen :     0 :   1.0 :     1 : False : False : Binary\n",
      "          Memphis :     0 :  -0.0 :     1 : False : False : Binary\n",
      "\n",
      "1 Objective Declarations\n",
      "    obj1 : Size=1, Index=None, Active=True\n",
      "        Key  : Active : Sense    : Expression\n",
      "        None :   True : minimize : 2322*x[Ashland,LA] + 1236*x[Ashland,Houston] + 485*x[Ashland,NYC] + 324*x[Ashland,Chicago] + 1792*x[Memphis,LA] + 567*x[Memphis,Houston] + 1096*x[Memphis,NYC] + 531*x[Memphis,Chicago] + 1606*x[Harlingen,LA] + 330*x[Harlingen,Houston] + 1956*x[Harlingen,NYC] + 1410*x[Harlingen,Chicago]\n",
      "\n",
      "3 Constraint Declarations\n",
      "    num_warehouses : Size=1, Index=None, Active=True\n",
      "        Key  : Lower : Body                                   : Upper : Active\n",
      "        None :  -Inf : y[Ashland] + y[Memphis] + y[Harlingen] :   2.0 :   True\n",
      "    one_per_cust : Size=4, Index=one_per_cust_index, Active=True\n",
      "        Key     : Lower : Body                                                           : Upper : Active\n",
      "        Chicago :   1.0 : x[Ashland,Chicago] + x[Memphis,Chicago] + x[Harlingen,Chicago] :   1.0 :   True\n",
      "        Houston :   1.0 : x[Ashland,Houston] + x[Memphis,Houston] + x[Harlingen,Houston] :   1.0 :   True\n",
      "             LA :   1.0 :                x[Ashland,LA] + x[Memphis,LA] + x[Harlingen,LA] :   1.0 :   True\n",
      "            NYC :   1.0 :             x[Ashland,NYC] + x[Memphis,NYC] + x[Harlingen,NYC] :   1.0 :   True\n",
      "    warehouse_active : Size=12, Index=warehouse_active_index, Active=True\n",
      "        Key                      : Lower : Body                                : Upper : Active\n",
      "          ('Ashland', 'Chicago') :  -Inf :     x[Ashland,Chicago] - y[Ashland] :   0.0 :   True\n",
      "          ('Ashland', 'Houston') :  -Inf :     x[Ashland,Houston] - y[Ashland] :   0.0 :   True\n",
      "               ('Ashland', 'LA') :  -Inf :          x[Ashland,LA] - y[Ashland] :   0.0 :   True\n",
      "              ('Ashland', 'NYC') :  -Inf :         x[Ashland,NYC] - y[Ashland] :   0.0 :   True\n",
      "        ('Harlingen', 'Chicago') :  -Inf : x[Harlingen,Chicago] - y[Harlingen] :   0.0 :   True\n",
      "        ('Harlingen', 'Houston') :  -Inf : x[Harlingen,Houston] - y[Harlingen] :   0.0 :   True\n",
      "             ('Harlingen', 'LA') :  -Inf :      x[Harlingen,LA] - y[Harlingen] :   0.0 :   True\n",
      "            ('Harlingen', 'NYC') :  -Inf :     x[Harlingen,NYC] - y[Harlingen] :   0.0 :   True\n",
      "          ('Memphis', 'Chicago') :  -Inf :     x[Memphis,Chicago] - y[Memphis] :   0.0 :   True\n",
      "          ('Memphis', 'Houston') :  -Inf :     x[Memphis,Houston] - y[Memphis] :   0.0 :   True\n",
      "               ('Memphis', 'LA') :  -Inf :          x[Memphis,LA] - y[Memphis] :   0.0 :   True\n",
      "              ('Memphis', 'NYC') :  -Inf :         x[Memphis,NYC] - y[Memphis] :   0.0 :   True\n",
      "\n",
      "14 Declarations: x_index_0 x_index_1 x_index x y_index y obj1 one_per_cust_index one_per_cust warehouse_active_index_0 warehouse_active_index_1 warehouse_active_index warehouse_active num_warehouses\n"
     ]
    }
   ],
   "source": [
    "solver = SolverFactory('gurobi')\n",
    "res = solver.solve(model)\n",
    "model.pprint()"
   ]
  },
  {
   "cell_type": "code",
   "execution_count": 15,
   "metadata": {},
   "outputs": [
    {
     "name": "stdout",
     "output_type": "stream",
     "text": [
      "y[Ashland] = 1.0\n",
      "y[Memphis] = -0.0\n",
      "y[Harlingen] = 1.0\n"
     ]
    }
   ],
   "source": [
    "[print(model.y._data[n], '=', model.y._data[n].value) for n in N];"
   ]
  },
  {
   "cell_type": "code",
   "execution_count": 16,
   "metadata": {},
   "outputs": [
    {
     "name": "stdout",
     "output_type": "stream",
     "text": [
      "y : Size=3, Index=y_index\n",
      "    Key       : Lower : Value : Upper : Fixed : Stale : Domain\n",
      "      Ashland :     0 :   1.0 :     1 : False : False : Binary\n",
      "    Harlingen :     0 :   1.0 :     1 : False : False : Binary\n",
      "      Memphis :     0 :  -0.0 :     1 : False : False : Binary\n"
     ]
    }
   ],
   "source": [
    "model.y.pprint()"
   ]
  },
  {
   "cell_type": "code",
   "execution_count": 17,
   "metadata": {},
   "outputs": [
    {
     "name": "stdout",
     "output_type": "stream",
     "text": [
      "x[Ashland,LA] = 0.0\n",
      "x[Ashland,Houston] = 0.0\n",
      "x[Ashland,NYC] = 1.0\n",
      "x[Ashland,Chicago] = 1.0\n",
      "x[Memphis,LA] = 0.0\n",
      "x[Memphis,Houston] = 0.0\n",
      "x[Memphis,NYC] = 0.0\n",
      "x[Memphis,Chicago] = 0.0\n",
      "x[Harlingen,LA] = 1.0\n",
      "x[Harlingen,Houston] = 1.0\n",
      "x[Harlingen,NYC] = 0.0\n",
      "x[Harlingen,Chicago] = 0.0\n"
     ]
    }
   ],
   "source": [
    "[print(model.x._data[n,m], '=', model.x._data[n,m].value) for n in N for m in M];"
   ]
  },
  {
   "cell_type": "code",
   "execution_count": 18,
   "metadata": {},
   "outputs": [
    {
     "name": "stdout",
     "output_type": "stream",
     "text": [
      "x : Size=12, Index=x_index\n",
      "    Key                      : Lower : Value : Upper : Fixed : Stale : Domain\n",
      "      ('Ashland', 'Chicago') :     0 :   1.0 :     1 : False : False :  Reals\n",
      "      ('Ashland', 'Houston') :     0 :   0.0 :     1 : False : False :  Reals\n",
      "           ('Ashland', 'LA') :     0 :   0.0 :     1 : False : False :  Reals\n",
      "          ('Ashland', 'NYC') :     0 :   1.0 :     1 : False : False :  Reals\n",
      "    ('Harlingen', 'Chicago') :     0 :   0.0 :     1 : False : False :  Reals\n",
      "    ('Harlingen', 'Houston') :     0 :   1.0 :     1 : False : False :  Reals\n",
      "         ('Harlingen', 'LA') :     0 :   1.0 :     1 : False : False :  Reals\n",
      "        ('Harlingen', 'NYC') :     0 :   0.0 :     1 : False : False :  Reals\n",
      "      ('Memphis', 'Chicago') :     0 :   0.0 :     1 : False : False :  Reals\n",
      "      ('Memphis', 'Houston') :     0 :   0.0 :     1 : False : False :  Reals\n",
      "           ('Memphis', 'LA') :     0 :   0.0 :     1 : False : False :  Reals\n",
      "          ('Memphis', 'NYC') :     0 :   0.0 :     1 : False : False :  Reals\n"
     ]
    }
   ],
   "source": [
    "model.x.pprint()"
   ]
  },
  {
   "cell_type": "code",
   "execution_count": 19,
   "metadata": {},
   "outputs": [
    {
     "name": "stdout",
     "output_type": "stream",
     "text": [
      "Ashland  serves customers:  ['NYC', 'Chicago']\n",
      "Memphis: do not build\n",
      "Harlingen  serves customers:  ['LA', 'Houston']\n",
      "\n",
      "The optimal transport cost:  2745.0  $\n"
     ]
    }
   ],
   "source": [
    "# produce nicely formatted output\n",
    "for wl in N:\n",
    "    if value(model.y[wl]) > 0.5:\n",
    "        customers = [cl for cl in M if value(model.x[wl, cl] > 0.5)]\n",
    "        print(wl, ' serves customers: ', customers)\n",
    "    else:\n",
    "        print(wl + ': do not build')\n",
    "print('\\nThe optimal transport cost: ', value(model.obj1),' $')"
   ]
  },
  {
   "cell_type": "markdown",
   "metadata": {},
   "source": [
    "### Abstract example"
   ]
  },
  {
   "cell_type": "code",
   "execution_count": 20,
   "metadata": {},
   "outputs": [],
   "source": [
    "model = AbstractModel(name='(WL)')\n",
    "model.N = Set()\n",
    "model.M = Set()\n",
    "\n",
    "model.x = Var(model.N, model.M, bounds=(0,1))\n",
    "model.y = Var(model.N, within=Binary)\n",
    "\n",
    "model.d = Param(model.N, model.M, mutable=False)\n",
    "model.P = Param()\n",
    "\n",
    "def obj_rule(model):\n",
    "    return(sum(model.d[n,m]*model.x[n,m] for n in N for m in M))\n",
    "\n",
    "def one_per_cust_rule(model, m):\n",
    "    return(sum(model.x[n,m] for n in N) == 1)\n",
    "\n",
    "def warehouse_active_rule(model, n, m):\n",
    "    return(model.x[n,m] <= model.y[n])\n",
    "\n",
    "def num_warehouses_rule(model):\n",
    "    return(sum(model.y[n] for n in N) <= model.P)\n",
    "\n",
    "model.obj = Objective(rule=obj_rule)\n",
    "model.one_per_cust = Constraint(model.M, rule=one_per_cust_rule)\n",
    "model.warehouse_active = Constraint(model.N, model.M, rule=warehouse_active_rule)\n",
    "model.num_warehouses = Constraint(rule=num_warehouses_rule)"
   ]
  },
  {
   "cell_type": "code",
   "execution_count": 21,
   "metadata": {},
   "outputs": [
    {
     "name": "stdout",
     "output_type": "stream",
     "text": [
      "y : Size=3, Index=N\n",
      "    Key       : Lower : Value : Upper : Fixed : Stale : Domain\n",
      "      Ashland :     0 :   1.0 :     1 : False : False : Binary\n",
      "    Harlingen :     0 :   1.0 :     1 : False : False : Binary\n",
      "      Memphis :     0 :  -0.0 :     1 : False : False : Binary\n"
     ]
    }
   ],
   "source": [
    "instance = model.create_instance('w1_data.dat')\n",
    "solver = SolverFactory('gurobi')\n",
    "solver.solve(instance)\n",
    "instance.y.pprint()"
   ]
  },
  {
   "cell_type": "markdown",
   "metadata": {},
   "source": [
    "# Capter 4"
   ]
  },
  {
   "cell_type": "code",
   "execution_count": null,
   "metadata": {},
   "outputs": [],
   "source": []
  }
 ],
 "metadata": {
  "kernelspec": {
   "display_name": "Python 3",
   "language": "python",
   "name": "python3"
  },
  "language_info": {
   "codemirror_mode": {
    "name": "ipython",
    "version": 3
   },
   "file_extension": ".py",
   "mimetype": "text/x-python",
   "name": "python",
   "nbconvert_exporter": "python",
   "pygments_lexer": "ipython3",
   "version": "3.7.3"
  }
 },
 "nbformat": 4,
 "nbformat_minor": 1
}
