{
 "cells": [
  {
   "cell_type": "code",
   "execution_count": 1,
   "metadata": {
    "collapsed": true
   },
   "outputs": [],
   "source": [
    "from pyomo.environ import *\n",
    "import pandas as pd\n",
    "import numpy as np\n",
    "from ipynb.fs.full.ss_radial_distribution_model import optimization_model\n",
    "from ipynb.fs.full.data_vis import vis"
   ]
  },
  {
   "cell_type": "code",
   "execution_count": 2,
   "outputs": [],
   "source": [
    "def read_input(filename):\n",
    "    SystemDemand = pd.read_excel(filename, sheet_name = 'SystemDemand')\n",
    "    NodeData = pd.read_excel(filename, sheet_name='NodeData')\n",
    "    LineData = pd.read_excel(filename, sheet_name='LineData')\n",
    "\n",
    "    return {'SystemDemand':SystemDemand, 'NodeData':NodeData, 'LineData':LineData}"
   ],
   "metadata": {
    "collapsed": false,
    "pycharm": {
     "name": "#%%\n"
    }
   }
  },
  {
   "cell_type": "code",
   "execution_count": 3,
   "outputs": [
    {
     "name": "stdout",
     "output_type": "stream",
     "text": [
      "SystemDemand :\n",
      "    TIME   PD   QD\n",
      "0     1  1.0  1.0\n",
      "1     2  1.2  1.2\n",
      "2     3  1.4  1.4\n",
      "3     4  0.8  0.8\n",
      "\n",
      "\n",
      "NodeData :\n",
      "     NODES  Tb     PD    QD\n",
      "0       1   1    0.0   0.0\n",
      "1       2   0  130.3  80.7\n",
      "2       3   0    0.0   0.0\n",
      "3       4   0  130.3  80.7\n",
      "4       5   0  130.3  80.7\n",
      "5       6   0    0.0   0.0\n",
      "6       7   0    0.0   0.0\n",
      "7       8   0  130.3  80.7\n",
      "8       9   0  130.3  80.7\n",
      "9      10   0    0.0   0.0\n",
      "10     11   0  130.3  80.7\n",
      "11     12   0   77.6  47.6\n",
      "12     13   0   40.8  25.5\n",
      "13     14   0   40.8  25.5\n",
      "14     15   0   40.8  25.5\n",
      "15     16   0    7.6   4.2\n",
      "16     17   0  130.3  80.7\n",
      "17     18   0  130.3  80.7\n",
      "18     19   0  130.3  80.7\n",
      "19     20   0  130.3  80.7\n",
      "20     21   0  130.3  80.7\n",
      "21     22   0  130.3  80.7\n",
      "22     23   0  130.3  80.7\n",
      "23     24   0  130.3  80.7\n",
      "24     25   0  130.3  80.7\n",
      "25     26   0  130.3  80.7\n",
      "26     27   0   77.6  48.1\n",
      "27     28   0   42.5  27.2\n",
      "28     29   0   42.5  27.2\n",
      "29     30   0   42.5  27.2\n",
      "30     31   0   32.3  21.2\n",
      "31     32   0   32.3  21.2\n",
      "32     33   0   32.3  21.2\n",
      "33     34   0   32.3  21.2\n",
      "\n",
      "\n",
      "LineData :\n",
      "     FROM  TO       R       X\n",
      "0      1   2  0.1170  0.0480\n",
      "1      2   3  0.1073  0.0440\n",
      "2      3   4  0.1645  0.0457\n",
      "3      4   5  0.1495  0.0415\n",
      "4      5   6  0.1495  0.0415\n",
      "5      6   7  0.3144  0.0540\n",
      "6      7   8  0.2096  0.0360\n",
      "7      8   9  0.3144  0.0540\n",
      "8      9  10  0.2096  0.0360\n",
      "9     10  11  0.1310  0.0225\n",
      "10    11  12  0.1048  0.0180\n",
      "11     3  13  0.1572  0.0270\n",
      "12    13  14  0.2096  0.0360\n",
      "13    14  15  0.1048  0.0180\n",
      "14    15  16  0.0524  0.0090\n",
      "15     6  17  0.1794  0.0498\n",
      "16    17  18  0.1645  0.0457\n",
      "17    18  19  0.2079  0.0473\n",
      "18    19  20  0.1890  0.0430\n",
      "19    20  21  0.1890  0.0430\n",
      "20    21  22  0.2620  0.0450\n",
      "21    22  23  0.2620  0.0450\n",
      "22    23  24  0.3144  0.0540\n",
      "23    24  25  0.2096  0.0360\n",
      "24    25  26  0.1310  0.0225\n",
      "25    26  27  0.1048  0.0180\n",
      "26     7  28  0.1572  0.0270\n",
      "27    28  29  0.1572  0.0270\n",
      "28    29  30  0.1572  0.0270\n",
      "29    10  31  0.1572  0.0270\n",
      "30    31  32  0.2096  0.0360\n",
      "31    32  33  0.1572  0.0270\n",
      "32    33  34  0.1048  0.0180\n",
      "\n",
      "\n"
     ]
    }
   ],
   "source": [
    "data = read_input(r'Input_Files\\InputData34.xlsx')\n",
    "for i in data.keys():\n",
    "    print(i, ':\\n', data[i])\n",
    "    print('\\n')\n",
    "\n",
    "Sbase = 1000 # kVA\n",
    "Vnom = 11/np.sqrt(3)    # kV\n",
    "Zbase = (Vnom**2)*1000/Sbase # Ohm\n",
    "Vmax_pow = 1.05\n",
    "Vmin = 0.8\n",
    "model, buses, lines, Pd, Qd = optimization_model(data, Vmax_pow, Vmin, Vnom, Sbase, Zbase)"
   ],
   "metadata": {
    "collapsed": false,
    "pycharm": {
     "name": "#%%\n"
    }
   }
  },
  {
   "cell_type": "code",
   "execution_count": 4,
   "outputs": [
    {
     "name": "stdout",
     "output_type": "stream",
     "text": [
      "Ipopt 3.12.13: \r\n",
      "\r\n",
      "******************************************************************************\r\n",
      "This program contains Ipopt, a library for large-scale nonlinear optimization.\r\n",
      " Ipopt is released as open source code under the Eclipse Public License (EPL).\r\n",
      "         For more information visit http://projects.coin-or.org/Ipopt\r\n",
      "******************************************************************************\r\n",
      "\r\n",
      "This is Ipopt version 3.12.13, running with linear solver mumps.\r\n",
      "NOTE: Other linear solvers might be more efficient (see Ipopt documentation).\r\n",
      "\r\n",
      "Number of nonzeros in equality constraint Jacobian...:     1984\r\n",
      "Number of nonzeros in inequality constraint Jacobian.:      264\r\n",
      "Number of nonzeros in Lagrangian Hessian.............:      660\r\n",
      "\r\n",
      "Total number of variables............................:      536\r\n",
      "                     variables with only lower bounds:        0\r\n",
      "                variables with lower and upper bounds:        0\r\n",
      "                     variables with only upper bounds:        0\r\n",
      "Total number of equality constraints.................:      536\r\n",
      "Total number of inequality constraints...............:      268\r\n",
      "        inequality constraints with only lower bounds:      132\r\n",
      "   inequality constraints with lower and upper bounds:      136\r\n",
      "        inequality constraints with only upper bounds:        0\r\n",
      "\r\n",
      "iter    objective    inf_pr   inf_du lg(mu)  ||d||  lg(rg) alpha_du alpha_pr  ls\r\n",
      "   0  0.0000000e+00 1.82e-01 1.00e+00  -1.0 0.00e+00    -  0.00e+00 0.00e+00   0\r\n",
      "   1  5.1844029e-04 1.88e+01 2.08e+00  -1.7 3.68e+00    -  3.06e-01 1.00e+00f  1\r\n",
      "   2  3.3076999e+00 1.20e+02 1.34e+06  -1.7 3.82e+02    -  7.78e-05 3.13e-02f  6\r\n",
      "   3  1.7570465e+00 2.44e+01 7.47e+05  -1.7 5.00e+00    -  1.21e-01 1.00e+00h  1\r\n",
      "   4  1.2653136e+00 3.19e+00 7.63e+04  -1.7 1.81e+00    -  1.00e+00 1.00e+00h  1\r\n",
      "   5  1.2093088e+00 9.86e-02 3.15e+03  -1.7 3.19e-01    -  1.00e+00 1.00e+00h  1\r\n",
      "   6  1.2077210e+00 1.07e-04 6.40e+00  -1.7 1.05e-02    -  1.00e+00 1.00e+00h  1\r\n",
      "   7  1.2077148e+00 1.84e-08 5.24e-05  -1.7 1.46e-04    -  1.00e+00 1.00e+00h  1\r\n",
      "   8  1.2077148e+00 5.33e-15 9.81e-07  -3.8 4.06e-08    -  1.00e+00 1.00e+00h  1\r\n",
      "\r\n",
      "Number of Iterations....: 8\r\n",
      "\r\n",
      "                                   (scaled)                 (unscaled)\r\n",
      "Objective...............:   1.2077147719268000e+00    1.2077147719268000e+00\r\n",
      "Dual infeasibility......:   1.0451708942760263e-14    1.0451708942760263e-14\r\n",
      "Constraint violation....:   5.3290705182007514e-15    5.3290705182007514e-15\r\n",
      "Complementarity.........:   0.0000000000000000e+00    0.0000000000000000e+00\r\n",
      "Overall NLP error.......:   5.3290705182007514e-15    1.0451708942760263e-14\r\n",
      "\r\n",
      "\r\n",
      "Number of objective function evaluations             = 13\r\n",
      "Number of objective gradient evaluations             = 9\r\n",
      "Number of equality constraint evaluations            = 16\r\n",
      "Number of inequality constraint evaluations          = 16\r\n",
      "Number of equality constraint Jacobian evaluations   = 9\r\n",
      "Number of inequality constraint Jacobian evaluations = 9\r\n",
      "Number of Lagrangian Hessian evaluations             = 8\r\n",
      "Total CPU secs in IPOPT (w/o function evaluations)   =      0.100\r\n",
      "Total CPU secs in NLP function evaluations           =      0.005\r\n",
      "\r\n",
      "EXIT: Optimal Solution Found.\r\n",
      "\b\b\b\b\b\b\b\b\b\b\b\b\b\b\b"
     ]
    },
    {
     "data": {
      "text/plain": "{'Problem': [{'Lower bound': -inf, 'Upper bound': inf, 'Number of objectives': 1, 'Number of constraints': 804, 'Number of variables': 536, 'Sense': 'unknown'}], 'Solver': [{'Status': 'ok', 'Message': 'Ipopt 3.12.13\\\\x3a Optimal Solution Found', 'Termination condition': 'optimal', 'Id': 0, 'Error rc': 0, 'Time': 0.18748211860656738}], 'Solution': [OrderedDict([('number of solutions', 0), ('number of solutions displayed', 0)])]}"
     },
     "execution_count": 4,
     "metadata": {},
     "output_type": "execute_result"
    }
   ],
   "source": [
    "solver = SolverFactory('ipopt')\n",
    "solver.solve(model, tee=True)"
   ],
   "metadata": {
    "collapsed": false,
    "pycharm": {
     "name": "#%%\n"
    }
   }
  },
  {
   "cell_type": "code",
   "execution_count": 5,
   "outputs": [
    {
     "name": "stdout",
     "output_type": "stream",
     "text": [
      "[12.765194771926799, 11.557480000000004, 1.2077147719268]\n",
      "[12765.1947719268, 11557.480000000003, 1207.7147719268]\n"
     ]
    }
   ],
   "source": [
    "# CHECK LOSSES+DEMAND=SUPPLY\n",
    "losses = value(model.obj)\n",
    "supply = sum([sum(value(model.Ps[n, t]) for n in model.NODES) for t in model.TIME])\n",
    "demand = sum([sum(value(model.Pd[n, t]) for n in model.NODES) for t in model.TIME])\n",
    "print([supply, demand, losses])\n",
    "print([supply*Sbase, demand*Sbase, losses*Sbase])"
   ],
   "metadata": {
    "collapsed": false,
    "pycharm": {
     "name": "#%%\n"
    }
   }
  },
  {
   "cell_type": "code",
   "execution_count": 6,
   "outputs": [
    {
     "ename": "NameError",
     "evalue": "name 'lines' is not defined",
     "output_type": "error",
     "traceback": [
      "\u001B[1;31m---------------------------------------------------------------------------\u001B[0m",
      "\u001B[1;31mNameError\u001B[0m                                 Traceback (most recent call last)",
      "\u001B[1;32m<ipython-input-6-7200bd069d18>\u001B[0m in \u001B[0;36m<module>\u001B[1;34m\u001B[0m\n\u001B[0;32m      1\u001B[0m \u001B[1;33m\u001B[0m\u001B[0m\n\u001B[1;32m----> 2\u001B[1;33m \u001B[0mvis\u001B[0m\u001B[1;33m(\u001B[0m\u001B[0mdata\u001B[0m\u001B[1;33m,\u001B[0m \u001B[0mbuses\u001B[0m\u001B[1;33m,\u001B[0m \u001B[0mmodel\u001B[0m\u001B[1;33m,\u001B[0m \u001B[0mSbase\u001B[0m\u001B[1;33m)\u001B[0m\u001B[1;33m\u001B[0m\u001B[1;33m\u001B[0m\u001B[0m\n\u001B[0m",
      "\u001B[1;32mD:\\Holandsko\\Skola\\Master\\Year 2\\Master thesis\\Software\\Pyomo\\Power Flow test w Q and V\\data_vis.ipynb\u001B[0m in \u001B[0;36mvis\u001B[1;34m(data, buses, model, Sbase)\u001B[0m\n\u001B[0;32m     12\u001B[0m     \u001B[1;34m\"import matplotlib.pyplot as plt\\n\"\u001B[0m\u001B[1;33m,\u001B[0m\u001B[1;33m\u001B[0m\u001B[1;33m\u001B[0m\u001B[0m\n\u001B[0;32m     13\u001B[0m     \u001B[1;34m\"\\n\"\u001B[0m\u001B[1;33m,\u001B[0m\u001B[1;33m\u001B[0m\u001B[1;33m\u001B[0m\u001B[0m\n\u001B[1;32m---> 14\u001B[1;33m     \u001B[1;34m\"plt.style.use({'figure.facecolor':'white'})\"\u001B[0m\u001B[1;33m\u001B[0m\u001B[1;33m\u001B[0m\u001B[0m\n\u001B[0m\u001B[0;32m     15\u001B[0m    ]\n\u001B[0;32m     16\u001B[0m   },\n",
      "\u001B[1;31mNameError\u001B[0m: name 'lines' is not defined"
     ]
    }
   ],
   "source": [
    "vis(data, buses, lines, model, Sbase)"
   ],
   "metadata": {
    "collapsed": false,
    "pycharm": {
     "name": "#%%\n"
    }
   }
  }
 ],
 "metadata": {
  "kernelspec": {
   "display_name": "Python 3",
   "language": "python",
   "name": "python3"
  },
  "language_info": {
   "codemirror_mode": {
    "name": "ipython",
    "version": 2
   },
   "file_extension": ".py",
   "mimetype": "text/x-python",
   "name": "python",
   "nbconvert_exporter": "python",
   "pygments_lexer": "ipython2",
   "version": "2.7.6"
  }
 },
 "nbformat": 4,
 "nbformat_minor": 0
}