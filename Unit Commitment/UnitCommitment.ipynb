{
 "cells": [
  {
   "cell_type": "markdown",
   "metadata": {
    "collapsed": true,
    "pycharm": {
     "name": "#%% md\n"
    }
   },
   "source": [
    "<h1>Power System Analysis and Optimization (5XWA0) - Practice</h1>\n",
    "<h2>Simple unit commitment in PYOMO</h2>\n",
    "\n",
    "<b>MSc Irena Dukovska</b> <br />\n",
    "  Electrical Energy Systems Group <br />\n",
    "  Department of Electrical Engineering <br />\n",
    "  Eindhoven University of Technology <br />\n",
    "  (i.dukovska@tue.nl) <br /><br />\n"
   ]
  },
  {
   "cell_type": "markdown",
   "source": [
    "<h2>Introduction</h2>\n",
    "\n",
    "In this tutorial we will be developing a model in Python in order to solve and examine the solution of a simple form of the Unit Commitment problem.\n",
    "\n",
    "The optimization problem is formulated as follows:\n",
    "\n",
    "\\begin{align}\n",
    "&\\text{Minimize} \\ C = \\sum_{i}(a_i \\cdot u_i +b_i \\cdot P_i + c_i \\cdot P_i^2) \\\\\n",
    "&\\text{subject to:} \\\\\n",
    "&\\sum_{i} P_i = D \\ \\forall i \\\\\n",
    "&P_i^{min} \\cdot u_i \\leq P_i \\leq P_i^{max} \\cdot u_i \\ \\forall i \\\\\n",
    "&P_i \\geq 0 \\ \\forall i \\\\\n",
    "&u_i \\in \\left\\{0,1 \\right\\}\n",
    "\\end{align}\n",
    "\n",
    "The basis for this model is the economic dispatch with generation constraints. Note that a new variable ($u_i$) that can only take the values 0 or 1 was added, affecting both the constraints and the objective function. This is no longer a continuous (quadratic programming) problem. The goal of the optimization problem is not only to find the optimal power output of the units as in the economic dispatch problem, but also the optimal set of units that must be online in order to serve the load at minimum cost."
   ],
   "metadata": {
    "collapsed": false
   }
  },
  {
   "cell_type": "code",
   "execution_count": 76,
   "outputs": [],
   "source": [
    "from pyomo.environ import *\n",
    "import pandas as pd\n",
    "import matplotlib.pyplot as plt\n",
    "import numpy"
   ],
   "metadata": {
    "collapsed": false,
    "pycharm": {
     "name": "#%%\n"
    }
   }
  },
  {
   "cell_type": "code",
   "execution_count": 72,
   "outputs": [
    {
     "data": {
      "text/plain": "         a    b      c  Min  Max\n                                \nUnit1  500  5.3  0.004  200  450\nUnit2  400  5.5  0.006  150  350\nUnit3  200  5.8  0.009  100  225",
      "text/html": "<div>\n<style scoped>\n    .dataframe tbody tr th:only-of-type {\n        vertical-align: middle;\n    }\n\n    .dataframe tbody tr th {\n        vertical-align: top;\n    }\n\n    .dataframe thead th {\n        text-align: right;\n    }\n</style>\n<table border=\"1\" class=\"dataframe\">\n  <thead>\n    <tr style=\"text-align: right;\">\n      <th></th>\n      <th>a</th>\n      <th>b</th>\n      <th>c</th>\n      <th>Min</th>\n      <th>Max</th>\n    </tr>\n    <tr>\n      <th></th>\n      <th></th>\n      <th></th>\n      <th></th>\n      <th></th>\n      <th></th>\n    </tr>\n  </thead>\n  <tbody>\n    <tr>\n      <th>Unit1</th>\n      <td>500</td>\n      <td>5.3</td>\n      <td>0.004</td>\n      <td>200</td>\n      <td>450</td>\n    </tr>\n    <tr>\n      <th>Unit2</th>\n      <td>400</td>\n      <td>5.5</td>\n      <td>0.006</td>\n      <td>150</td>\n      <td>350</td>\n    </tr>\n    <tr>\n      <th>Unit3</th>\n      <td>200</td>\n      <td>5.8</td>\n      <td>0.009</td>\n      <td>100</td>\n      <td>225</td>\n    </tr>\n  </tbody>\n</table>\n</div>"
     },
     "execution_count": 72,
     "metadata": {},
     "output_type": "execute_result"
    }
   ],
   "source": [
    "UnitData = pd.read_excel('UC_input.xlsx', sheet_name='Units', index_col = 0)\n",
    "UnitData"
   ],
   "metadata": {
    "collapsed": false,
    "pycharm": {
     "name": "#%%\n"
    }
   }
  },
  {
   "cell_type": "code",
   "execution_count": 73,
   "outputs": [],
   "source": [
    "def unit_commitment(D):\n",
    "\n",
    "    model = ConcreteModel()\n",
    "\n",
    "    model.I = Set(ordered=True, initialize=UnitData.index)\n",
    "\n",
    "    model.a = Param(model.I, within=NonNegativeReals, mutable=True)\n",
    "    model.b = Param(model.I, within=NonNegativeReals, mutable=True)\n",
    "    model.c = Param(model.I, within=NonNegativeReals, mutable=True)\n",
    "\n",
    "    model.Pmax = Param(model.I, within=NonNegativeReals, mutable=True)\n",
    "    model.Pmin = Param(model.I, within=NonNegativeReals, mutable=True)\n",
    "\n",
    "    model.u = Var(model.I, within=Binary)\n",
    "    model.P = Var(model.I, within=PositiveReals)\n",
    "\n",
    "    for i in model.I:\n",
    "        model.a[i] = UnitData.loc[i, 'a']\n",
    "        model.b[i] = UnitData.loc[i, 'b']\n",
    "        model.c[i] = UnitData.loc[i, 'c']\n",
    "        model.Pmax[i] = UnitData.loc[i, 'Max']\n",
    "        model.Pmin[i] = UnitData.loc[i, 'Min']\n",
    "\n",
    "    def cost_rule(model):\n",
    "        return sum(model.a[i]*model.u[i] + model.b[i]*model.P[i]+model.c[i]*model.P[i]*model.P[i] for i in model.I)\n",
    "\n",
    "    def min_rule(model, i):\n",
    "        return model.Pmin[i]*model.u[i] <= model.P[i]\n",
    "\n",
    "    def max_rule(model, i):\n",
    "        return model.P[i] <= model.Pmax[i]*model.u[i]\n",
    "\n",
    "    def pbalance_rule(model):\n",
    "        return sum(model.P[i] for i in model.I) == D\n",
    "\n",
    "\n",
    "    model.cost = Objective(rule=cost_rule)\n",
    "    model.min_out_constraints = Constraint(model.I, rule = min_rule)\n",
    "    model.max_out_constraints = Constraint(model.I, rule = max_rule)\n",
    "    model.balance = Constraint(rule=pbalance_rule)\n",
    "\n",
    "    opt = SolverFactory('gurobi')\n",
    "    results = opt.solve(model)\n",
    "\n",
    "    return model"
   ],
   "metadata": {
    "collapsed": false,
    "pycharm": {
     "name": "#%%\n"
    }
   }
  },
  {
   "cell_type": "code",
   "execution_count": 74,
   "outputs": [],
   "source": [
    "load_step = 10\n",
    "Load_levels = numpy.arange(UnitData['Min'].min(), UnitData['Max'].sum(), load_step)\n",
    "results_df = pd.DataFrame(index=Load_levels, columns=['Cost', 'Unit1', 'Unit2', 'Unit3'], dtype=float)\n",
    "\n",
    "for D in Load_levels:\n",
    "    model = unit_commitment(D)\n",
    "    results_df.loc[D, 'Cost'] = model.cost()\n",
    "    for i in model.I:\n",
    "        results_df.loc[D, i] = model.u[i].value"
   ],
   "metadata": {
    "collapsed": false,
    "pycharm": {
     "name": "#%%\n"
    }
   }
  },
  {
   "cell_type": "code",
   "execution_count": 75,
   "outputs": [
    {
     "data": {
      "text/plain": "         Cost  Unit1  Unit2  Unit3\n100    870.00    0.0    0.0    1.0\n110    946.90    0.0    0.0    1.0\n120   1025.60    0.0    0.0    1.0\n130   1106.10    0.0    0.0    1.0\n140   1188.40    0.0    0.0    1.0\n...       ...    ...    ...    ...\n980   8283.34    1.0    1.0    1.0\n990   8378.06    1.0    1.0    1.0\n1000  8473.50    1.0    1.0    1.0\n1010  8569.66    1.0    1.0    1.0\n1020  8666.60    1.0    1.0    1.0\n\n[93 rows x 4 columns]",
      "text/html": "<div>\n<style scoped>\n    .dataframe tbody tr th:only-of-type {\n        vertical-align: middle;\n    }\n\n    .dataframe tbody tr th {\n        vertical-align: top;\n    }\n\n    .dataframe thead th {\n        text-align: right;\n    }\n</style>\n<table border=\"1\" class=\"dataframe\">\n  <thead>\n    <tr style=\"text-align: right;\">\n      <th></th>\n      <th>Cost</th>\n      <th>Unit1</th>\n      <th>Unit2</th>\n      <th>Unit3</th>\n    </tr>\n  </thead>\n  <tbody>\n    <tr>\n      <th>100</th>\n      <td>870.00</td>\n      <td>0.0</td>\n      <td>0.0</td>\n      <td>1.0</td>\n    </tr>\n    <tr>\n      <th>110</th>\n      <td>946.90</td>\n      <td>0.0</td>\n      <td>0.0</td>\n      <td>1.0</td>\n    </tr>\n    <tr>\n      <th>120</th>\n      <td>1025.60</td>\n      <td>0.0</td>\n      <td>0.0</td>\n      <td>1.0</td>\n    </tr>\n    <tr>\n      <th>130</th>\n      <td>1106.10</td>\n      <td>0.0</td>\n      <td>0.0</td>\n      <td>1.0</td>\n    </tr>\n    <tr>\n      <th>140</th>\n      <td>1188.40</td>\n      <td>0.0</td>\n      <td>0.0</td>\n      <td>1.0</td>\n    </tr>\n    <tr>\n      <th>...</th>\n      <td>...</td>\n      <td>...</td>\n      <td>...</td>\n      <td>...</td>\n    </tr>\n    <tr>\n      <th>980</th>\n      <td>8283.34</td>\n      <td>1.0</td>\n      <td>1.0</td>\n      <td>1.0</td>\n    </tr>\n    <tr>\n      <th>990</th>\n      <td>8378.06</td>\n      <td>1.0</td>\n      <td>1.0</td>\n      <td>1.0</td>\n    </tr>\n    <tr>\n      <th>1000</th>\n      <td>8473.50</td>\n      <td>1.0</td>\n      <td>1.0</td>\n      <td>1.0</td>\n    </tr>\n    <tr>\n      <th>1010</th>\n      <td>8569.66</td>\n      <td>1.0</td>\n      <td>1.0</td>\n      <td>1.0</td>\n    </tr>\n    <tr>\n      <th>1020</th>\n      <td>8666.60</td>\n      <td>1.0</td>\n      <td>1.0</td>\n      <td>1.0</td>\n    </tr>\n  </tbody>\n</table>\n<p>93 rows × 4 columns</p>\n</div>"
     },
     "execution_count": 75,
     "metadata": {},
     "output_type": "execute_result"
    }
   ],
   "source": [
    "results_df"
   ],
   "metadata": {
    "collapsed": false,
    "pycharm": {
     "name": "#%%\n"
    }
   }
  },
  {
   "cell_type": "code",
   "execution_count": 90,
   "outputs": [],
   "source": [
    "#  We now want to see which units are online for each load level.\n",
    "\n",
    "# We can create a numpy array from the data frame which we later transpose\n",
    "status_table = results_df[['Unit1', 'Unit2', 'Unit3']].to_numpy()\n",
    "status_table = numpy.transpose(status_table)\n",
    "unit_dim = status_table.shape[0] # Number of units\n",
    "level_dim = status_table.shape[1] #\n"
   ],
   "metadata": {
    "collapsed": false,
    "pycharm": {
     "name": "#%%\n"
    }
   }
  },
  {
   "cell_type": "code",
   "execution_count": 106,
   "outputs": [
    {
     "data": {
      "text/plain": "<Figure size 720x216 with 1 Axes>",
      "image/png": "[encoded data removed]"
     },
     "metadata": {
      "needs_background": "light"
     },
     "output_type": "display_data"
    }
   ],
   "source": [
    "plt.figure(figsize=(10,3))\n",
    "plt.imshow(status_table, aspect='auto',cmap='gray')\n",
    "plt.title('Status of units for different load levels')\n",
    "plt.ylabel('Unit')\n",
    "plt.xlabel('Load level (MW)')\n",
    "plt.xticks(numpy.arange(0,level_dim,step=10),numpy.arange(Load_levels[0],Load_levels[-1],step=100))\n",
    "plt.yticks(numpy.arange(0,unit_dim,step=1),UnitData.index.values)\n",
    "\n",
    "plt.show()"
   ],
   "metadata": {
    "collapsed": false,
    "pycharm": {
     "name": "#%%\n"
    }
   }
  }
 ],
 "metadata": {
  "kernelspec": {
   "display_name": "Python 3",
   "language": "python",
   "name": "python3"
  },
  "language_info": {
   "codemirror_mode": {
    "name": "ipython",
    "version": 2
   },
   "file_extension": ".py",
   "mimetype": "text/x-python",
   "name": "python",
   "nbconvert_exporter": "python",
   "pygments_lexer": "ipython2",
   "version": "2.7.6"
  }
 },
 "nbformat": 4,
 "nbformat_minor": 0
}