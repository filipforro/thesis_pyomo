{
 "cells": [
  {
   "cell_type": "markdown",
   "metadata": {},
   "source": [
    "<h1>Power System Analysis and Optimization (5XWA0)</h1>\n",
    "<h2>Simple unit commitment in PYOMO</h2>\n",
    "\n",
    "<b>MSc Irena Dukovska</b> <br />\n",
    "  Electrical Energy Systems Group <br />\n",
    "  Department of Electrical Engineering <br />\n",
    "  Eindhoven University of Technology <br />\n",
    "  (i.dukovska@tue.nl) <br /><br />\n",
    "  "
   ]
  },
  {
   "cell_type": "markdown",
   "metadata": {},
   "source": [
    "<h2>Introduction</h2>\n",
    "\n",
    "In this tutorial we will be developing a model in Python in order to solve and examine the solution of a simple form of the Unit Commitment problem.\n",
    "\n",
    "The optimization problem is formulated as follows:\n",
    "\n",
    "\\begin{align}\n",
    "&\\text{Minimize} \\ C = \\sum_{i}(a_i \\cdot u_i +b_i \\cdot P_i + c_i \\cdot P_i^2) \\\\\n",
    "&\\text{subject to:} \\\\\n",
    "&\\sum_{i} P_i = D \\ \\forall i \\\\\n",
    "&P_i^{min} \\cdot u_i \\leq P_i \\leq P_i^{max} \\cdot u_i \\ \\forall i \\\\\n",
    "&P_i \\geq 0 \\ \\forall i \\\\\n",
    "&u_i \\in \\left\\{0,1 \\right\\}\n",
    "\\end{align}\n",
    "\n",
    "The basis for this model is the economic dispatch with generation constraints. Note that a new variable ($u_i$) that can only take the values 0 or 1 was added, affecting both the constraints and the objective function. This is no longer a continuous (quadratic programming) problem. The goal of the optimization problem is not only to find the optimal power output of the units as in the economic dispatch problem, but also the optimal set of units that must be online in order to serve the load at minimum cost.\n",
    "\n",
    "<b>In this tutorial we will:</b> <br>\n",
    "1) develop an optimization model using Pyomo to solve the problem above <br>\n",
    "2) use the model in order to define the optimal unit combination and their power output for each load level <br>\n",
    "3) visualize the results"
   ]
  },
  {
   "cell_type": "markdown",
   "metadata": {},
   "source": [
    "<h2>Part I: Loading the data</h2>"
   ]
  },
  {
   "cell_type": "markdown",
   "metadata": {},
   "source": [
    "First, we need to import several packages that we will be using to load the input data, to build the model, and finally, to process and analyze the results."
   ]
  },
  {
   "cell_type": "code",
   "execution_count": 10,
   "metadata": {},
   "outputs": [
    {
     "name": "stdout",
     "output_type": "stream",
     "text": [
      "         a    b      c  Min  Max\n",
      "                                \n",
      "Unit1  500  5.3  0.004  200  450\n",
      "Unit2  400  5.5  0.006  150  350\n",
      "Unit3  200  5.8  0.009  100  225\n"
     ]
    }
   ],
   "source": [
    "import pandas\n",
    "import numpy\n",
    "from pyomo.environ import *\n",
    "import matplotlib.pyplot as plt\n",
    "\n",
    "UnitData = pandas.read_excel('UC_input.xlsx', sheet_name = 'Units', index_col= 0)\n",
    "\n",
    "print(UnitData)"
   ]
  },
  {
   "cell_type": "markdown",
   "metadata": {},
   "source": [
    "<h2>Part II: Defining the model</h2>"
   ]
  },
  {
   "cell_type": "markdown",
   "metadata": {},
   "source": [
    "The model can be developed in excactly the same way as in the Economic Dispatch tutorial. The only difference is that we now define a function that returns the model in order to solve the problem many times for different load levels."
   ]
  },
  {
   "cell_type": "code",
   "execution_count": 11,
   "metadata": {},
   "outputs": [],
   "source": [
    "def unit_commitment(D): #Input is a given load level D\n",
    "    \n",
    "    model = ConcreteModel()\n",
    "\n",
    "    model.I = Set(ordered = True, initialize = UnitData.index)\n",
    "\n",
    "    model.Pmax = Param(model.I, within = NonNegativeReals, mutable = True)\n",
    "    model.Pmin = Param(model.I, within = NonNegativeReals, mutable = True)\n",
    "\n",
    "    model.a = Param(model.I, within = NonNegativeReals, mutable = True)\n",
    "    model.b = Param(model.I, within = NonNegativeReals, mutable = True)\n",
    "    model.c = Param(model.I, within = NonNegativeReals, mutable = True)\n",
    "    \n",
    "    #Give values to Pmax, Pmin, a, b, c\n",
    "\n",
    "    for i in model.I:\n",
    "        model.Pmax[i] = UnitData.loc[i,'Max']\n",
    "        model.Pmin[i] = UnitData.loc[i,'Min']\n",
    "        model.a[i] = UnitData.loc[i, 'a']\n",
    "        model.b[i] = UnitData.loc[i, 'b']\n",
    "        model.c[i] = UnitData.loc[i, 'c']\n",
    "        \n",
    "    #Define decision variables\n",
    "\n",
    "    model.P = Var(model.I, within = PositiveReals)\n",
    "    model.u = Var(model.I, within = Binary)\n",
    "    \n",
    "    #Define constraints of the problem\n",
    "\n",
    "    def cost_rule(model):\n",
    "        return sum(model.a[i]*model.u[i] + model.b[i]*model.P[i]+model.c[i]*model.P[i]*model.P[i] for i in model.I)\n",
    "\n",
    "    def min_rule(model, i):\n",
    "        return model.Pmin[i]*model.u[i] <= model.P[i]\n",
    "\n",
    "    def max_rule(model, i):\n",
    "        return model.P[i] <= model.Pmax[i]*model.u[i]\n",
    "\n",
    "    def pbalance_rule(model):\n",
    "        return sum(model.P[i] for i in model.I) == D\n",
    "\n",
    "    #Add them to the model\n",
    "\n",
    "    model.cost = Objective(rule = cost_rule)\n",
    "    model.min_out_constraints = Constraint(model.I, rule = min_rule)\n",
    "    model.max_out_constraints = Constraint(model.I, rule = max_rule)\n",
    "    model.balance = Constraint(rule = pbalance_rule)\n",
    "    \n",
    "    #Return the solved model\n",
    "    opt=SolverFactory('gurobi')\n",
    "    results=opt.solve(model)\n",
    "    \n",
    "    return model"
   ]
  },
  {
   "cell_type": "markdown",
   "metadata": {},
   "source": [
    "<h2>Part III: Solving the optimization problem for different load levels and saving the results"
   ]
  },
  {
   "cell_type": "code",
   "execution_count": 12,
   "metadata": {},
   "outputs": [
    {
     "name": "stdout",
     "output_type": "stream",
     "text": [
      "         Cost  Unit1  Unit2  Unit3\n",
      "100    870.00    0.0    0.0  100.0\n",
      "110    946.90    0.0    0.0  110.0\n",
      "120   1025.60    0.0    0.0  120.0\n",
      "130   1106.10    0.0    0.0  130.0\n",
      "140   1188.40    0.0    0.0  140.0\n",
      "...       ...    ...    ...    ...\n",
      "980   8283.34  450.0  328.0  202.0\n",
      "990   8378.06  450.0  334.0  206.0\n",
      "1000  8473.50  450.0  340.0  210.0\n",
      "1010  8569.66  450.0  346.0  214.0\n",
      "1020  8666.60  450.0  350.0  220.0\n",
      "\n",
      "[93 rows x 4 columns]\n"
     ]
    }
   ],
   "source": [
    "# Define a numpy array containing all load levels of interest, starting from the minimum possible load supplied by one unit to \n",
    "# the maximum load that all units can supply when online\n",
    "load_step = 10\n",
    "Load_levels = numpy.arange(UnitData['Min'].min(), UnitData['Max'].sum(), load_step)\n",
    "# We want to save all the results from the optimization problem in a structured way. One way is with a data frame where  \n",
    "# the index is the load levels and the results (cost, power output per unit) are in the columns\n",
    "results_df = pandas.DataFrame(index=Load_levels, columns=['Cost', 'Unit1', 'Unit2', 'Unit3'], dtype=float)\n",
    "\n",
    "for D in Load_levels:\n",
    "    model = unit_commitment(D) #Solve optimization problem for demand level D\n",
    "    \n",
    "    results_df.loc[D, 'Cost'] = model.cost() # Save the cost value\n",
    "    for i in model.I:\n",
    "        results_df.loc[D, i] = model.P[i].value # Save the power outputs per unit\n",
    "    \n",
    "\n",
    "print(results_df)"
   ]
  },
  {
   "cell_type": "markdown",
   "metadata": {},
   "source": [
    "<h2>Part IV: Visualizing the results </h2>"
   ]
  },
  {
   "cell_type": "code",
   "execution_count": 13,
   "metadata": {},
   "outputs": [
    {
     "data": {
      "text/plain": "<Figure size 432x288 with 1 Axes>",
      "image/png": "[encoded data removed]"
     },
     "metadata": {
      "needs_background": "light"
     },
     "output_type": "display_data"
    }
   ],
   "source": [
    "figure = plt.plot(figsize=(12, 8))\n",
    "plt.plot(results_df.index.to_list(), results_df['Cost'],'black')\n",
    "plt.title('Energy cost for various load levels')\n",
    "plt.xlabel('Load level (MW)')\n",
    "plt.ylabel('Energy cost (Euro)')\n",
    "plt.grid()\n",
    "plt.show()"
   ]
  },
  {
   "cell_type": "markdown",
   "metadata": {},
   "source": [
    "Did you notice a change of slope around 200 MW? Why did this happen?"
   ]
  },
  {
   "cell_type": "code",
   "execution_count": 14,
   "metadata": {},
   "outputs": [
    {
     "name": "stdout",
     "output_type": "stream",
     "text": [
      "Before transformation\n",
      "[  0.           0.           0.           0.           0.\n",
      "   0.           0.           0.           0.           0.\n",
      "   0.         210.         220.         230.         240.\n",
      " 250.         260.         270.         280.         290.\n",
      " 300.         310.         320.         330.         340.\n",
      " 350.         360.         370.         380.         390.\n",
      " 400.         410.         420.         430.         440.\n",
      " 450.         337.69230769 344.61538462 351.53846154 358.46153846\n",
      " 365.38461538 372.30769231 379.23076923 386.15384615 393.07692308\n",
      " 400.         406.92307692 413.84615385 420.76923077 427.69230769\n",
      " 434.61538462 441.53846154 448.46153846 450.         450.\n",
      " 400.         406.         412.         418.         424.\n",
      " 430.         436.         362.10526316 366.84210526 371.57894737\n",
      " 376.31578947 381.05263158 385.78947368 390.52631579 395.26315789\n",
      " 400.         404.73684211 409.47368421 414.21052632 418.94736842\n",
      " 423.68421053 428.42105263 433.15789473 437.89473679 442.63157895\n",
      " 447.36842091 449.99999931 449.99999966 449.99999999 450.\n",
      " 450.         449.99999999 450.         450.         450.\n",
      " 449.99999999 450.         450.        ]\n",
      "After transformation\n",
      "[0. 0. 0. 0. 0. 0. 0. 0. 0. 0. 0. 1. 1. 1. 1. 1. 1. 1. 1. 1. 1. 1. 1. 1.\n",
      " 1. 1. 1. 1. 1. 1. 1. 1. 1. 1. 1. 1. 1. 1. 1. 1. 1. 1. 1. 1. 1. 1. 1. 1.\n",
      " 1. 1. 1. 1. 1. 1. 1. 1. 1. 1. 1. 1. 1. 1. 1. 1. 1. 1. 1. 1. 1. 1. 1. 1.\n",
      " 1. 1. 1. 1. 1. 1. 1. 1. 1. 1. 1. 1. 1. 1. 1. 1. 1. 1. 1. 1. 1.]\n"
     ]
    }
   ],
   "source": [
    "#  We now want to see which units are online for each load level. \n",
    "\n",
    "# We can create a numpy array from the data frame which we later transpose\n",
    "status_table = results_df[['Unit1', 'Unit2', 'Unit3']].to_numpy()\n",
    "status_table = numpy.transpose(status_table)\n",
    "\n",
    "print('Before transformation')\n",
    "print(status_table[0])\n",
    " \n",
    "status_table[status_table>0] = 1\n",
    "print('After transformation')\n",
    "print(status_table[0])\n",
    "\n",
    "unit_dim = status_table.shape[0] # Number of units \n",
    "level_dim = status_table.shape[1] # Number of load levels"
   ]
  },
  {
   "cell_type": "markdown",
   "metadata": {},
   "source": [
    "Visualize the on-off status of the units for different load levels with Matplotlib"
   ]
  },
  {
   "cell_type": "code",
   "execution_count": 15,
   "metadata": {},
   "outputs": [
    {
     "data": {
      "text/plain": "<Figure size 720x216 with 1 Axes>",
      "image/png": "[encoded data removed]"
     },
     "metadata": {
      "needs_background": "light"
     },
     "output_type": "display_data"
    }
   ],
   "source": [
    "plt.figure(figsize=(10,3))\n",
    "plt.imshow(status_table, aspect='auto',cmap='gray')\n",
    "plt.title('Status of units for different load levels')\n",
    "plt.ylabel('Unit')\n",
    "plt.xlabel('Load level (MW)')\n",
    "plt.xticks(numpy.arange(0,level_dim,step=10),numpy.arange(Load_levels[0],Load_levels[-1],step=100))\n",
    "plt.yticks(numpy.arange(0,unit_dim,step=1),UnitData.index.values)\n",
    "\n",
    "plt.show()\n"
   ]
  }
 ],
 "metadata": {
  "kernelspec": {
   "display_name": "Python 3",
   "language": "python",
   "name": "python3"
  },
  "language_info": {
   "codemirror_mode": {
    "name": "ipython",
    "version": 3
   },
   "file_extension": ".py",
   "mimetype": "text/x-python",
   "name": "python",
   "nbconvert_exporter": "python",
   "pygments_lexer": "ipython3",
   "version": "3.7.3"
  }
 },
 "nbformat": 4,
 "nbformat_minor": 2
}