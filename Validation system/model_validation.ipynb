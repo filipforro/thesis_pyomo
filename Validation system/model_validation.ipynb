{
 "cells": [
  {
   "cell_type": "markdown",
   "source": [
    "##### This script validates SOCP/test_model.ipynb"
   ],
   "metadata": {
    "collapsed": false
   }
  },
  {
   "cell_type": "code",
   "execution_count": 1,
   "metadata": {
    "collapsed": true
   },
   "outputs": [],
   "source": [
    "from pyomo.environ import *\n",
    "import pandas as pd\n",
    "import numpy as np\n",
    "import matplotlib.pyplot as plt\n",
    "\n",
    "plt.style.use({'figure.facecolor':'white'})"
   ]
  },
  {
   "cell_type": "code",
   "execution_count": 2,
   "outputs": [],
   "source": [
    "def read_input(filename):\n",
    "    SystemDemand = pd.read_excel(filename, sheet_name = 'SystemDemand')\n",
    "    NodeData = pd.read_excel(filename, sheet_name='NodeData')\n",
    "    LineData = pd.read_excel(filename, sheet_name='LineData')\n",
    "\n",
    "    return {'SystemDemand':SystemDemand, 'NodeData':NodeData, 'LineData':LineData}\n"
   ],
   "metadata": {
    "collapsed": false,
    "pycharm": {
     "name": "#%%\n"
    }
   }
  },
  {
   "cell_type": "code",
   "execution_count": 3,
   "outputs": [],
   "source": [
    "data = read_input(r'Input_Files\\InputData34.xlsx')\n",
    "\n",
    "def optimization_model(inputData, Vmax, Vmin, Vnom, Sbase, Zbase):\n",
    "\n",
    "    SystemDemand= inputData['SystemDemand']\n",
    "    NodeData = inputData['NodeData']\n",
    "    LineData = inputData['LineData']\n",
    "    time = [SystemDemand.loc[i, 'TIME'] for i in SystemDemand.index]\n",
    "    lines = [(LineData.loc[i, 'FROM'], LineData.loc[i, 'TO']) for i in LineData.index]\n",
    "    buses = [NodeData.loc[i, 'NODES'] for i in NodeData.index]\n",
    "    R = {(LineData.loc[i,'FROM'],LineData.loc[i,'TO']):LineData.loc[i,'R'] for i in LineData.index}\n",
    "    X = {(LineData.loc[i,'FROM'],LineData.loc[i,'TO']):LineData.loc[i,'X'] for i in LineData.index}\n",
    "    B = {(LineData.loc[i,'FROM'],LineData.loc[i,'TO']):LineData.loc[i,'B'] for i in LineData.index}\n",
    "    Tb = {buses[i]:NodeData.loc[i, 'Tb'] for i in NodeData.index}\n",
    "    Pd = {(buses[i], time[k]):NodeData.loc[i, 'PD']*SystemDemand.loc[k, 'PD']/Sbase for k in SystemDemand.index for i in NodeData.index}\n",
    "    Qd = {(buses[i], time[k]):NodeData.loc[i, 'QD']*SystemDemand.loc[k, 'QD']/Sbase for k in SystemDemand.index for i in NodeData.index}\n",
    "\n",
    "    #---------------------------------------------------------------------------------------------------------\n",
    "    #Define the Model\n",
    "    #---------------------------------------------------------------------------------------------------------\n",
    "\n",
    "    model = ConcreteModel()\n",
    "\n",
    "    #---------------------------------------------------------------------------------------------------------\n",
    "    #Define Sets\n",
    "    #---------------------------------------------------------------------------------------------------------\n",
    "    model.LINES = Set(initialize=lines)\n",
    "    model.NODES = Set(initialize=buses)\n",
    "    model.TIME = Set(ordered=True, initialize=time)\n",
    "    #---------------------------------------------------------------------------------------------------------\n",
    "    #Define Parameters\n",
    "    #---------------------------------------------------------------------------------------------------------\n",
    "\n",
    "    model.R = Param(model.LINES, initialize=R, mutable=True, within=NonNegativeReals)\n",
    "    model.X = Param(model.LINES, initialize=X, mutable=True, within=NonNegativeReals)\n",
    "    model.B = Param(model.LINES, initialize=B, mutable=True, within=NonNegativeReals)\n",
    "\n",
    "    model.Pd = Param(model.NODES, model.TIME, initialize=Pd, mutable=True, within=Any)\n",
    "    model.Qd = Param(model.NODES, model.TIME, initialize=Qd, mutable=True, within=Any)\n",
    "    model.Tb = Param(model.NODES, initialize=Tb, mutable=True, within=Any)\n",
    "    model.Vmax = Param(initialize=Vmax, mutable=True) # p.u.\n",
    "    model.Vmin = Param(initialize=Vmin, mutable=True) # p.u.\n",
    "    model.Vnom = Param(initialize=1.0, mutable=True)  # p.u.\n",
    "\n",
    "    #---------------------------------------------------------------------------------------------------------\n",
    "    #Initialize Parameters\n",
    "    #---------------------------------------------------------------------------------------------------------\n",
    "\n",
    "    def ini_pu_impedance_r(model, i,j):\n",
    "        return model.R[i,j]/Zbase\n",
    "    model.rij = Param(model.LINES, rule=ini_pu_impedance_r)                        # p.u.\n",
    "    def ini_pu_impedance_x(model, i,j):\n",
    "        return model.X[i,j]/Zbase\n",
    "    model.xij = Param(model.LINES, rule=ini_pu_impedance_x)                        # p.u.\n",
    "    def ini_pu_g_series(model, i,j):\n",
    "        return (model.R[i,j]/(model.R[i,j]**2 + model.X[i,j]**2))/(1/Zbase)\n",
    "    model.gij = Param(model.LINES, rule=ini_pu_g_series)                           # p.u.\n",
    "    def ini_pu_b_series(model, i,j):\n",
    "        return -(model.X[i,j]/(model.R[i,j]**2 + model.X[i,j]**2))/(1/Zbase)\n",
    "    model.bij = Param(model.LINES, rule=ini_pu_b_series)                           # p.u.\n",
    "    def ini_pu_b_shunt(model, i,j):\n",
    "        return model.B[i,j]/2\n",
    "    model.bsh = Param(model.LINES, rule=ini_pu_b_shunt)                            # p.u.\n",
    "\n",
    "    #---------------------------------------------------------------------------------------------------------\n",
    "    #Define Variables\n",
    "    #---------------------------------------------------------------------------------------------------------\n",
    "\n",
    "    model.Pde = Var(model.LINES, model.TIME, initialize=0)\n",
    "    model.Qde = Var(model.LINES, model.TIME, initialize=0)\n",
    "    model.Ppa = Var(model.LINES, model.TIME, initialize=0)\n",
    "    model.Qpa = Var(model.LINES, model.TIME, initialize=0)\n",
    "\n",
    "    def active_supply_rule(model, n, t):\n",
    "        if model.Tb[n] == 0:\n",
    "            temp = 0.0\n",
    "            model.Ps[n,t].fixed = True\n",
    "        else:\n",
    "            temp = 0.0\n",
    "            model.Ps[n,t].fixed = False\n",
    "        return temp\n",
    "    model.Ps = Var(model.NODES, model.TIME, initialize=active_supply_rule)\n",
    "\n",
    "    def reactive_supply_rule(model, n, t):\n",
    "        if model.Tb[n] == 0:\n",
    "            temp = 0.0\n",
    "            model.Qs[n,t].fixed = True\n",
    "        else:\n",
    "            temp = 0.0\n",
    "            model.Qs[n,t].fixed = False\n",
    "        return temp\n",
    "    model.Qs = Var(model.NODES, model.TIME, initialize=reactive_supply_rule)\n",
    "\n",
    "    def ini_voltage(model, n, t):\n",
    "        if model.Tb[n] == 0:\n",
    "            temp = model.Vnom\n",
    "            model.V[n,t].fixed = False\n",
    "        else:\n",
    "            temp = model.Vnom\n",
    "            model.V[n,t].fixed = True\n",
    "        return temp\n",
    "    model.V = Var(model.NODES, model.TIME, initialize=ini_voltage)\n",
    "\n",
    "    def ini_voltage_angle(model, n, t):\n",
    "        if model.Tb[n] == 0:\n",
    "            temp = 0\n",
    "            model.delta[n,t].fixed = False\n",
    "        else:\n",
    "            delta_slack = 0\n",
    "            temp = delta_slack\n",
    "            model.delta[n,t].fixed = True\n",
    "        return temp\n",
    "    model.delta = Var(model.NODES, model.TIME, initialize=ini_voltage_angle)\n",
    "\n",
    "    #---------------------------------------------------------------------------------------------------------\n",
    "    #Define Objective\n",
    "    #---------------------------------------------------------------------------------------------------------\n",
    "\n",
    "    def act_loss(model):\n",
    "        return sum(model.Pde[i,j,t] + model.Ppa[i,j,t] for i,j in model.LINES for t in model.TIME)\n",
    "    model.obj = Objective(rule=act_loss)\n",
    "\n",
    "    #---------------------------------------------------------------------------------------------------------\n",
    "    #Define Constraints\n",
    "    #---------------------------------------------------------------------------------------------------------\n",
    "\n",
    "    def active_power_flow_rule(model, k, t):\n",
    "        return model.Ps[k,t] - model.Pd[k,t] - sum(model.Pde[i,j,t] for i,j in model.LINES if i == k) - \\\n",
    "               sum(model.Ppa[i,j,t] for i,j in model.LINES if j == k) == 0\n",
    "    model.active_power_flow = Constraint(model.NODES, model.TIME, rule=active_power_flow_rule)\n",
    "\n",
    "    def reactive_power_flow_rule(model, k, t):\n",
    "     return model.Qs[k,t] - model.Qd[k,t] - sum(model.Qde[i,j,t] for i,j in model.LINES if i == k) - \\\n",
    "            sum(model.Qpa[i,j,t] for i,j in model.LINES if j == k) == 0\n",
    "    model.reactive_power_flow = Constraint(model.NODES, model.TIME, rule=reactive_power_flow_rule)\n",
    "\n",
    "    def active_power_rule_de(model, i,j, t):\n",
    "        return model.Pde[i,j,t] - model.gij[i,j]*model.V[i,t]**2 + \\\n",
    "               model.V[i,t]*model.V[j,t]*model.gij[i,j]*cos(model.delta[i,t] - model.delta[j,t]) + \\\n",
    "               model.V[i,t]*model.V[j,t]*model.bij[i,j]*sin(model.delta[i,t] - model.delta[j,t]) == 0\n",
    "    model.active_power_out = Constraint(model.LINES, model.TIME, rule=active_power_rule_de)\n",
    "\n",
    "    def reactive_power_rule_de(model, i,j, t):\n",
    "        return model.Qde[i,j,t] + (model.bij[i,j] + model.bsh[i,j])*model.V[i,t]**2 + \\\n",
    "               model.V[i,t]*model.V[j,t]*model.gij[i,j]*sin(model.delta[i,t] - model.delta[j,t]) - \\\n",
    "               model.V[i,t]*model.V[j,t]*model.bij[i,j]*cos(model.delta[i,t] - model.delta[j,t]) == 0\n",
    "    model.reactive_power_out = Constraint(model.LINES, model.TIME, rule=reactive_power_rule_de)\n",
    "\n",
    "    def active_power_rule_pa(model, i,j, t):\n",
    "        return model.Ppa[i,j,t] - model.gij[i,j]*model.V[j,t]**2 + \\\n",
    "               model.V[i,t]*model.V[j,t]*model.gij[i,j]*cos(model.delta[i,t] - model.delta[j,t]) - \\\n",
    "               model.V[i,t]*model.V[j,t]*model.bij[i,j]*sin(model.delta[i,t] - model.delta[j,t]) == 0\n",
    "    model.active_power_in = Constraint(model.LINES, model.TIME, rule=active_power_rule_pa)\n",
    "\n",
    "    def reactive_power_rule_pa(model, i,j, t):\n",
    "        return model.Qpa[i,j,t] + (model.bij[i,j] + model.bsh[i,j])*model.V[j,t]**2 - \\\n",
    "               model.V[i,t]*model.V[j,t]*model.gij[i,j]*sin(model.delta[i,t] - model.delta[j,t]) - \\\n",
    "               model.V[i,t]*model.V[j,t]*model.bij[i,j]*cos(model.delta[i,t] - model.delta[j,t]) == 0\n",
    "    model.reactive_power_in = Constraint(model.LINES, model.TIME, rule=reactive_power_rule_pa)\n",
    "\n",
    "    def voltage_limit_rule(model, n, t):\n",
    "        return inequality(model.Vmin, model.V[n,t], model.Vmax)\n",
    "    model.voltage_limit = Constraint(model.NODES, model.TIME, rule=voltage_limit_rule)\n",
    "\n",
    "    return model, buses"
   ],
   "metadata": {
    "collapsed": false,
    "pycharm": {
     "name": "#%%\n"
    }
   }
  },
  {
   "cell_type": "code",
   "execution_count": 4,
   "outputs": [],
   "source": [
    "Sbase = 1000 # kVA\n",
    "Vnom = 11/np.sqrt(3)    # kV\n",
    "Zbase = (Vnom**2)*1000/Sbase # Ohm\n",
    "Vmax = 1.05\n",
    "Vmin = 0.7\n",
    "model, buses = optimization_model(data, Vmax, Vmin, Vnom, Sbase, Zbase)\n",
    "#model.pprint()"
   ],
   "metadata": {
    "collapsed": false,
    "pycharm": {
     "name": "#%%\n"
    }
   }
  },
  {
   "cell_type": "code",
   "execution_count": 9,
   "outputs": [
    {
     "name": "stdout",
     "output_type": "stream",
     "text": [
      "Ipopt 3.12.13: \r\n",
      "\r\n",
      "******************************************************************************\r\n",
      "This program contains Ipopt, a library for large-scale nonlinear optimization.\r\n",
      " Ipopt is released as open source code under the Eclipse Public License (EPL).\r\n",
      "         For more information visit http://projects.coin-or.org/Ipopt\r\n",
      "******************************************************************************\r\n",
      "\r\n",
      "This is Ipopt version 3.12.13, running with linear solver mumps.\r\n",
      "NOTE: Other linear solvers might be more efficient (see Ipopt documentation).\r\n",
      "\r\n",
      "Number of nonzeros in equality constraint Jacobian...:    18864\r\n",
      "Number of nonzeros in inequality constraint Jacobian.:      792\r\n",
      "Number of nonzeros in Lagrangian Hessian.............:     5448\r\n",
      "\r\n",
      "Total number of variables............................:     4800\r\n",
      "                     variables with only lower bounds:        0\r\n",
      "                variables with lower and upper bounds:        0\r\n",
      "                     variables with only upper bounds:        0\r\n",
      "Total number of equality constraints.................:     4800\r\n",
      "Total number of inequality constraints...............:      816\r\n",
      "        inequality constraints with only lower bounds:        0\r\n",
      "   inequality constraints with lower and upper bounds:      816\r\n",
      "        inequality constraints with only upper bounds:        0\r\n",
      "\r\n",
      "iter    objective    inf_pr   inf_du lg(mu)  ||d||  lg(rg) alpha_du alpha_pr  ls\r\n",
      "   0  0.0000000e+00 2.54e-01 1.00e+00  -1.0 0.00e+00    -  0.00e+00 0.00e+00   0\r\n",
      "   1  1.0354191e-12 3.61e-01 3.00e+00  -1.7 5.12e+00    -  2.33e-01 1.00e+00f  1\r\n",
      "   2  7.7336287e+00 1.73e-02 3.22e-01  -1.7 9.99e-01    -  1.00e+00 1.00e+00h  1\r\n",
      "   3  7.9362042e+00 8.76e-05 5.43e-03  -1.7 4.99e-02    -  1.00e+00 1.00e+00h  1\r\n",
      "   4  7.9366049e+00 1.73e-09 7.56e-06  -3.8 1.68e-04    -  1.00e+00 1.00e+00h  1\r\n",
      "\r\n",
      "Number of Iterations....: 4\r\n",
      "\r\n",
      "                                   (scaled)                 (unscaled)\r\n",
      "Objective...............:   7.9366048514748746e+00    7.9366048514748746e+00\r\n",
      "Dual infeasibility......:   1.9229907408764216e-10    1.9229907408764216e-10\r\n",
      "Constraint violation....:   1.3921693841227069e-09    1.7347915326482166e-09\r\n",
      "Complementarity.........:   0.0000000000000000e+00    0.0000000000000000e+00\r\n",
      "Overall NLP error.......:   1.3921693841227069e-09    1.7347915326482166e-09\r\n",
      "\r\n",
      "\r\n",
      "Number of objective function evaluations             = 5\r\n",
      "Number of objective gradient evaluations             = 5\r\n",
      "Number of equality constraint evaluations            = 5\r\n",
      "Number of inequality constraint evaluations          = 5\r\n",
      "Number of equality constraint Jacobian evaluations   = 5\r\n",
      "Number of inequality constraint Jacobian evaluations = 5\r\n",
      "Number of Lagrangian Hessian evaluations             = 4\r\n",
      "Total CPU secs in IPOPT (w/o function evaluations)   =      0.508\r\n",
      "Total CPU secs in NLP function evaluations           =      0.035\r\n",
      "\r\n",
      "EXIT: Optimal Solution Found.\r\n",
      "\b\b\b\b\b\b\b\b\b\b\b\b\b\b\b"
     ]
    },
    {
     "data": {
      "text/plain": "{'Problem': [{'Lower bound': -inf, 'Upper bound': inf, 'Number of objectives': 1, 'Number of constraints': 5616, 'Number of variables': 4800, 'Sense': 'unknown'}], 'Solver': [{'Status': 'ok', 'Message': 'Ipopt 3.12.13\\\\x3a Optimal Solution Found', 'Termination condition': 'optimal', 'Id': 0, 'Error rc': 0, 'Time': 0.8664581775665283}], 'Solution': [OrderedDict([('number of solutions', 0), ('number of solutions displayed', 0)])]}"
     },
     "execution_count": 9,
     "metadata": {},
     "output_type": "execute_result"
    }
   ],
   "source": [
    "solver = SolverFactory('ipopt')\n",
    "solver.solve(model, tee=True)"
   ],
   "metadata": {
    "collapsed": false,
    "pycharm": {
     "name": "#%%\n"
    }
   }
  },
  {
   "cell_type": "code",
   "execution_count": null,
   "outputs": [],
   "source": [
    "losses = value(model.obj)\n",
    "supply = sum([sum(value(model.Ps[n, t]) for n in model.NODES) for t in model.TIME])\n",
    "demand = sum([sum(value(model.Pd[n, t]) for n in model.NODES) for t in model.TIME])\n",
    "print([supply, demand, losses])\n",
    "print([supply*Sbase, demand*Sbase, losses*Sbase, demand*Sbase + losses*Sbase])"
   ],
   "metadata": {
    "collapsed": false,
    "pycharm": {
     "name": "#%%\n"
    }
   }
  },
  {
   "cell_type": "code",
   "execution_count": null,
   "outputs": [],
   "source": [
    "# DATA VISUALIZATION - VOLTAGES AND ACTIVE/REACTIVE POWERS AND CURRENTS/LOADING OF LINES\n",
    "voltage = pd.DataFrame(columns=buses, index=data['SystemDemand']['TIME'].values)\n",
    "active_d = pd.DataFrame(columns=buses, index=data['SystemDemand']['TIME'].values)\n",
    "reactive_d = pd.DataFrame(columns=buses, index=data['SystemDemand']['TIME'].values)\n",
    "active_s = pd.DataFrame(columns=buses, index=data['SystemDemand']['TIME'].values)\n",
    "reactive_s = pd.DataFrame(columns=buses, index=data['SystemDemand']['TIME'].values)\n",
    "\n",
    "for t in model.TIME:\n",
    "    for n in model.NODES:\n",
    "        voltage.loc[t,n] = model.V[n,t].value\n",
    "        active_d.loc[t,n] = model.Pd[n,t].value*Sbase\n",
    "        reactive_d.loc[t,n] = model.Qd[n,t].value*Sbase\n",
    "        active_s.loc[t,n] = model.Ps[n,t].value*Sbase\n",
    "        reactive_s.loc[t,n] = model.Qs[n,t].value*Sbase\n",
    "\n",
    "fig_pow, ax_pow = plt.subplots(nrows=2, ncols=2, squeeze=False, figsize=(12,8))\n",
    "ax_pow[0,0].plot(active_d.index, active_d, marker='o');ax_pow[0,0].set_xlabel('Time [h]');ax_pow[0,0].set_ylabel('Active Power [kW]');ax_pow[0,0].set_title('Active Power Demand');\n",
    "ax_pow[0,1].plot(reactive_d.index, reactive_d, marker='o');ax_pow[0,1].set_xlabel('Time [h]');ax_pow[0,1].set_ylabel('Reactive Power [kVar]');ax_pow[0,1].set_title('Reactive Power Demand');\n",
    "ax_pow[1,0].plot(active_s.index, active_s, marker='o');ax_pow[1,0].set_xlabel('Time [h]');ax_pow[1,0].set_ylabel('Active Power [kW]');ax_pow[1,0].set_title('Active Power Supply');\n",
    "ax_pow[1,1].plot(reactive_s.index, reactive_s, marker='o');ax_pow[1,1].set_xlabel('Time [h]');ax_pow[1,1].set_ylabel('Reactive Power [kVar]');ax_pow[1,1].set_title('Reactive Power Supply');\n",
    "fig_pow.legend(['Bus'+str(i) for i in active_d.columns], bbox_to_anchor=(1.04,0.5), loc='center', borderaxespad=0);\n",
    "fig_pow.tight_layout()\n",
    "fig_pow.show;\n",
    "plt.savefig('power.png', bbox_inches='tight')\n",
    "\n",
    "b=['Bus'+str(i) for i in active_d.columns]\n",
    "b.extend({'$V_{min}$','$V_{max}$'})\n",
    "fig_v, ax_v = plt.subplots(nrows=1, ncols=1, squeeze=False, figsize=(12,8))\n",
    "ax_v[0,0].plot(voltage.index, voltage, marker='o');ax_v[0,0].set_xlabel('Time [h]');ax_v[0,0].set_ylabel('Voltage [p.u.]');ax_v[0,0].set_title('Voltage');\n",
    "ax_v[0,0].axhline(model.Vmin.value, color='r', linestyle='--')\n",
    "ax_v[0,0].axhline(model.Vmax.value, color='r', linestyle='--')\n",
    "ax_v[0,0].legend(b, bbox_to_anchor=(1.04,0.5), loc=\"center left\", borderaxespad=0)\n",
    "fig_v.tight_layout()\n",
    "fig_v.show;\n",
    "plt.savefig('voltage.png', bbox_inches='tight')"
   ],
   "metadata": {
    "collapsed": false,
    "pycharm": {
     "name": "#%%\n"
    }
   }
  }
 ],
 "metadata": {
  "kernelspec": {
   "display_name": "Python 3",
   "language": "python",
   "name": "python3"
  },
  "language_info": {
   "codemirror_mode": {
    "name": "ipython",
    "version": 2
   },
   "file_extension": ".py",
   "mimetype": "text/x-python",
   "name": "python",
   "nbconvert_exporter": "python",
   "pygments_lexer": "ipython2",
   "version": "2.7.6"
  }
 },
 "nbformat": 4,
 "nbformat_minor": 0
}